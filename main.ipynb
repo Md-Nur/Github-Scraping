{
 "metadata": {
  "language_info": {
   "codemirror_mode": {
    "name": "ipython",
    "version": 3
   },
   "file_extension": ".py",
   "mimetype": "text/x-python",
   "name": "python",
   "nbconvert_exporter": "python",
   "pygments_lexer": "ipython3",
   "version": "3.9.2"
  },
  "orig_nbformat": 2,
  "kernelspec": {
   "name": "python392jvsc74a57bd08d843348d49f28d28bd5793edc7ef81dd140b8e72c0b21f68f65a7e71f8a67df",
   "display_name": "Python 3.9.2 64-bit"
  }
 },
 "nbformat": 4,
 "nbformat_minor": 2,
 "cells": [
  {
   "source": [
    "# Guideline to create a webscraping project\n",
    "## 1. Pick a website and describe your objective\n",
    "- Browse through different sites and pick on to scrape. Check the \"Project Ideas\" section for inspiration.\n",
    "- Identify the information you'd like to scrape from the site. Decide the format of the output CSV file.\n",
    "- Summarize your project idea and outline your strategy in a Juptyer notebook. Use the \"New\" button above.\n",
    "\n",
    "### Outline\n",
    "- We are going to scrap : https://github.com/topics\n",
    "- We will get a list of tiopics. For each topic we will get repo name, username, stars and page link url\n",
    "- We will find 25 repsitories info\n",
    "- For each 25 repsitories we will get a CSV file in this format\n",
    "```\n",
    "Repository Name,Username,Strats,Page URL\n",
    "three.js,mrdoob,71400,https://github.com/mrdoob/three.js\n",
    "libgdx,libgdx,18500,https://github.com/libgdx/libgdx\n",
    "```"
   ],
   "cell_type": "markdown",
   "metadata": {}
  },
  {
   "source": [
    "### Install Modules"
   ],
   "cell_type": "markdown",
   "metadata": {}
  },
  {
   "cell_type": "code",
   "execution_count": 29,
   "metadata": {},
   "outputs": [],
   "source": [
    "!pip install requests --upgrade --quiet\n",
    "!pip install beautifulsoup4 --upgrade --quiet"
   ]
  },
  {
   "source": [
    "### Import Modules"
   ],
   "cell_type": "markdown",
   "metadata": {}
  },
  {
   "cell_type": "code",
   "execution_count": 78,
   "metadata": {},
   "outputs": [],
   "source": [
    "import requests\n",
    "from bs4 import BeautifulSoup\n",
    "import pandas as pd"
   ]
  },
  {
   "cell_type": "code",
   "execution_count": 31,
   "metadata": {},
   "outputs": [],
   "source": [
    "pageLink = 'https://github.com/topics'\n",
    "response = requests.get(topicLink)"
   ]
  },
  {
   "cell_type": "code",
   "execution_count": 32,
   "metadata": {},
   "outputs": [
    {
     "output_type": "execute_result",
     "data": {
      "text/plain": [
       "200"
      ]
     },
     "metadata": {},
     "execution_count": 32
    }
   ],
   "source": [
    "response.status_code"
   ]
  },
  {
   "cell_type": "code",
   "execution_count": 33,
   "metadata": {},
   "outputs": [
    {
     "output_type": "execute_result",
     "data": {
      "text/plain": [
       "129102"
      ]
     },
     "metadata": {},
     "execution_count": 33
    }
   ],
   "source": [
    "len(response.text)"
   ]
  },
  {
   "source": [
    "## 2.Use the requests library to download web pages\n",
    "- Inspect the website's HTML source and identify the right URLs to download.\n",
    "- Download and save web pages locally using the requests library.\n",
    "- Create a function to automate downloading for different topics/search queries."
   ],
   "cell_type": "markdown",
   "metadata": {}
  },
  {
   "cell_type": "code",
   "execution_count": 34,
   "metadata": {},
   "outputs": [],
   "source": [
    "pageContent = response.text"
   ]
  },
  {
   "cell_type": "code",
   "execution_count": 35,
   "metadata": {},
   "outputs": [
    {
     "output_type": "execute_result",
     "data": {
      "text/plain": [
       "'\\n\\n<!DOCTYPE html>\\n<html lang=\"en\" data-color-mode=\"auto\" data-light-theme=\"light\" data-dark-theme=\"dark\">\\n  <head>\\n    <meta charset=\"utf-8\">\\n  <link rel=\"dns-prefetch\" href=\"https://github.githubassets.com\">\\n  <link rel=\"dns-prefetch\" href=\"https://avatars.githubusercontent.com\">\\n  <link rel=\"dns-prefetch\" href=\"https://github-cloud.s3.amazonaws.com\">\\n  <link rel=\"dns-prefetch\" href=\"https://user-images.githubusercontent.com/\">\\n\\n\\n\\n  <link crossorigin=\"anonymous\" media=\"all\" integrity=\"sha512-m3WD6x26QRryZ5Kq9O1ZlHgaTlqab5aFm8gTU6hlvFYQDmA7rKgoq/cZi2n8N3HUpRVlSguxW/h8fXDPvUeS2A==\" rel=\"stylesheet\" href=\"https://github.githubassets.com/assets/frameworks-9b7583eb1dba411af26792aaf4ed5994.css\" />\\n  \\n    <link crossorigin=\"anonymous\" media=\"all\" integrity=\"sha512-M7v6ZmO8lTwry7a0sQ9SQvpr79m30uXOQ+HLcRT4pzumVyg32ehYGikTLYePuhgC0ovxvIi8ceGV+RoF7KsCjA==\" rel=\"stylesheet\" href=\"https://github.githubassets.com/assets/behaviors-33bbfa6663bc953c2bcbb6b4b10f5242.css\" />\\n    \\n    \\n    \\n    <link cro'"
      ]
     },
     "metadata": {},
     "execution_count": 35
    }
   ],
   "source": [
    "pageContent[:1000]"
   ]
  },
  {
   "cell_type": "code",
   "execution_count": 36,
   "metadata": {},
   "outputs": [],
   "source": [
    "# with open('main.html','w') as f:\n",
    "#     f.write(pageContent)\n",
    "with open('main.html', \"w\", encoding=\"utf-8\") as f:\n",
    "    f.write(pageContent)"
   ]
  },
  {
   "source": [
    "## 3.Use Beautiful Soup to parse and extract information\n",
    "- Parse and explore the structure of downloaded web pages using Beautiful soup.\n",
    "- Use the right properties and methods to extract the required information.\n",
    "- Create functions to extract from the page into lists and dictionaries.\n",
    "(Optional) Use a REST API to acquire additional information if required."
   ],
   "cell_type": "markdown",
   "metadata": {}
  },
  {
   "cell_type": "code",
   "execution_count": 37,
   "metadata": {},
   "outputs": [],
   "source": [
    "soup = BeautifulSoup(pageContent, 'html.parser')"
   ]
  },
  {
   "cell_type": "code",
   "execution_count": 38,
   "metadata": {},
   "outputs": [
    {
     "output_type": "execute_result",
     "data": {
      "text/plain": [
       "bs4.BeautifulSoup"
      ]
     },
     "metadata": {},
     "execution_count": 38
    }
   ],
   "source": [
    "type(soup)"
   ]
  },
  {
   "cell_type": "code",
   "execution_count": 47,
   "metadata": {},
   "outputs": [],
   "source": [
    "topicNameClass = 'f3 lh-condensed mb-0 mt-1 Link--primary'\n",
    "# topicNameParagraph = soup.find_all('p',class_=topicNameClass)\n",
    "topicNameParagraph = soup.find_all('p',topicNameClass) # Not need to write the class attribute"
   ]
  },
  {
   "cell_type": "code",
   "execution_count": 48,
   "metadata": {},
   "outputs": [
    {
     "output_type": "execute_result",
     "data": {
      "text/plain": [
       "30"
      ]
     },
     "metadata": {},
     "execution_count": 48
    }
   ],
   "source": [
    "len(topicNameParagraph)"
   ]
  },
  {
   "cell_type": "code",
   "execution_count": 52,
   "metadata": {},
   "outputs": [
    {
     "output_type": "execute_result",
     "data": {
      "text/plain": [
       "[<p class=\"f3 lh-condensed mb-0 mt-1 Link--primary\">3D</p>,\n",
       " <p class=\"f3 lh-condensed mb-0 mt-1 Link--primary\">Ajax</p>,\n",
       " <p class=\"f3 lh-condensed mb-0 mt-1 Link--primary\">Algorithm</p>,\n",
       " <p class=\"f3 lh-condensed mb-0 mt-1 Link--primary\">Amp</p>,\n",
       " <p class=\"f3 lh-condensed mb-0 mt-1 Link--primary\">Android</p>]"
      ]
     },
     "metadata": {},
     "execution_count": 52
    }
   ],
   "source": [
    "topicNameParagraph[:5]"
   ]
  },
  {
   "cell_type": "code",
   "execution_count": 53,
   "metadata": {},
   "outputs": [],
   "source": [
    "topicDescriptionClass = 'f5 color-text-secondary mb-0 mt-1'\n",
    "topicDescriptionParagraph = soup.find_all('p',topicDescriptionClass)"
   ]
  },
  {
   "cell_type": "code",
   "execution_count": 55,
   "metadata": {},
   "outputs": [
    {
     "output_type": "execute_result",
     "data": {
      "text/plain": [
       "30"
      ]
     },
     "metadata": {},
     "execution_count": 55
    }
   ],
   "source": [
    "len(topicDescriptionParagraph)"
   ]
  },
  {
   "cell_type": "code",
   "execution_count": 54,
   "metadata": {},
   "outputs": [
    {
     "output_type": "execute_result",
     "data": {
      "text/plain": [
       "[<p class=\"f5 color-text-secondary mb-0 mt-1\">\n",
       "               3D modeling is the process of virtually developing the surface and structure of a 3D object.\n",
       "             </p>,\n",
       " <p class=\"f5 color-text-secondary mb-0 mt-1\">\n",
       "               Ajax is a technique for creating interactive web applications.\n",
       "             </p>,\n",
       " <p class=\"f5 color-text-secondary mb-0 mt-1\">\n",
       "               Algorithms are self-contained sequences that carry out a variety of tasks.\n",
       "             </p>,\n",
       " <p class=\"f5 color-text-secondary mb-0 mt-1\">\n",
       "               Amp is a non-blocking concurrency framework for PHP.\n",
       "             </p>,\n",
       " <p class=\"f5 color-text-secondary mb-0 mt-1\">\n",
       "               Android is an operating system built by Google designed for mobile devices.\n",
       "             </p>]"
      ]
     },
     "metadata": {},
     "execution_count": 54
    }
   ],
   "source": [
    "topicDescriptionParagraph[:5]"
   ]
  },
  {
   "cell_type": "code",
   "execution_count": 56,
   "metadata": {},
   "outputs": [],
   "source": [
    "topicLinkClass = 'd-flex no-underline'\n",
    "topicLink = soup.find_all('a',topicLinkClass)"
   ]
  },
  {
   "cell_type": "code",
   "execution_count": 57,
   "metadata": {},
   "outputs": [
    {
     "output_type": "execute_result",
     "data": {
      "text/plain": [
       "30"
      ]
     },
     "metadata": {},
     "execution_count": 57
    }
   ],
   "source": [
    "len(topicLink)"
   ]
  },
  {
   "cell_type": "code",
   "execution_count": 58,
   "metadata": {},
   "outputs": [
    {
     "output_type": "execute_result",
     "data": {
      "text/plain": [
       "[<a class=\"d-flex no-underline\" data-ga-click=\"Explore, go to 3d, location:All featured topics\" href=\"/topics/3d\">\n",
       " <div class=\"color-bg-info f4 color-text-tertiary text-bold rounded mr-3 flex-shrink-0 text-center\" style=\"width:64px; height:64px; line-height:64px;\">\n",
       "             #\n",
       "           </div>\n",
       " <div class=\"d-sm-flex flex-auto\">\n",
       " <div class=\"flex-auto\">\n",
       " <p class=\"f3 lh-condensed mb-0 mt-1 Link--primary\">3D</p>\n",
       " <p class=\"f5 color-text-secondary mb-0 mt-1\">\n",
       "               3D modeling is the process of virtually developing the surface and structure of a 3D object.\n",
       "             </p>\n",
       " </div>\n",
       " <div class=\"d-inline-block js-toggler-container starring-container\">\n",
       " <a aria-label=\"You must be signed in to star a topic\" class=\"btn btn-sm d-flex flex-items-center\" data-ga-click=\"Explore, click star button when signed out,\n",
       "         action:topics#index;\n",
       "         text:Star\" href=\"/login?return_to=%2Ftopics%2F3d\" title=\"You must be signed in to star a topic\">\n",
       " <svg aria-hidden=\"true\" class=\"octicon octicon-star mr-1\" height=\"16\" version=\"1.1\" viewbox=\"0 0 16 16\" width=\"16\"><path d=\"M8 .25a.75.75 0 01.673.418l1.882 3.815 4.21.612a.75.75 0 01.416 1.279l-3.046 2.97.719 4.192a.75.75 0 01-1.088.791L8 12.347l-3.766 1.98a.75.75 0 01-1.088-.79l.72-4.194L.818 6.374a.75.75 0 01.416-1.28l4.21-.611L7.327.668A.75.75 0 018 .25zm0 2.445L6.615 5.5a.75.75 0 01-.564.41l-3.097.45 2.24 2.184a.75.75 0 01.216.664l-.528 3.084 2.769-1.456a.75.75 0 01.698 0l2.77 1.456-.53-3.084a.75.75 0 01.216-.664l2.24-2.183-3.096-.45a.75.75 0 01-.564-.41L8 2.694v.001z\" fill-rule=\"evenodd\"></path></svg>Star\n",
       "     </a>\n",
       " </div>\n",
       " </div>\n",
       " </a>,\n",
       " <a class=\"d-flex no-underline\" data-ga-click=\"Explore, go to ajax, location:All featured topics\" href=\"/topics/ajax\">\n",
       " <img alt=\"ajax\" class=\"rounded mr-3\" height=\"64\" src=\"https://raw.githubusercontent.com/github/explore/8be26d91eb231fec0b8856359979ac09f27173fd/topics/ajax/ajax.png\" width=\"64\"/>\n",
       " <div class=\"d-sm-flex flex-auto\">\n",
       " <div class=\"flex-auto\">\n",
       " <p class=\"f3 lh-condensed mb-0 mt-1 Link--primary\">Ajax</p>\n",
       " <p class=\"f5 color-text-secondary mb-0 mt-1\">\n",
       "               Ajax is a technique for creating interactive web applications.\n",
       "             </p>\n",
       " </div>\n",
       " <div class=\"d-inline-block js-toggler-container starring-container\">\n",
       " <a aria-label=\"You must be signed in to star a topic\" class=\"btn btn-sm d-flex flex-items-center\" data-ga-click=\"Explore, click star button when signed out,\n",
       "         action:topics#index;\n",
       "         text:Star\" href=\"/login?return_to=%2Ftopics%2Fajax\" title=\"You must be signed in to star a topic\">\n",
       " <svg aria-hidden=\"true\" class=\"octicon octicon-star mr-1\" height=\"16\" version=\"1.1\" viewbox=\"0 0 16 16\" width=\"16\"><path d=\"M8 .25a.75.75 0 01.673.418l1.882 3.815 4.21.612a.75.75 0 01.416 1.279l-3.046 2.97.719 4.192a.75.75 0 01-1.088.791L8 12.347l-3.766 1.98a.75.75 0 01-1.088-.79l.72-4.194L.818 6.374a.75.75 0 01.416-1.28l4.21-.611L7.327.668A.75.75 0 018 .25zm0 2.445L6.615 5.5a.75.75 0 01-.564.41l-3.097.45 2.24 2.184a.75.75 0 01.216.664l-.528 3.084 2.769-1.456a.75.75 0 01.698 0l2.77 1.456-.53-3.084a.75.75 0 01.216-.664l2.24-2.183-3.096-.45a.75.75 0 01-.564-.41L8 2.694v.001z\" fill-rule=\"evenodd\"></path></svg>Star\n",
       "     </a>\n",
       " </div>\n",
       " </div>\n",
       " </a>,\n",
       " <a class=\"d-flex no-underline\" data-ga-click=\"Explore, go to algorithm, location:All featured topics\" href=\"/topics/algorithm\">\n",
       " <div class=\"color-bg-info f4 color-text-tertiary text-bold rounded mr-3 flex-shrink-0 text-center\" style=\"width:64px; height:64px; line-height:64px;\">\n",
       "             #\n",
       "           </div>\n",
       " <div class=\"d-sm-flex flex-auto\">\n",
       " <div class=\"flex-auto\">\n",
       " <p class=\"f3 lh-condensed mb-0 mt-1 Link--primary\">Algorithm</p>\n",
       " <p class=\"f5 color-text-secondary mb-0 mt-1\">\n",
       "               Algorithms are self-contained sequences that carry out a variety of tasks.\n",
       "             </p>\n",
       " </div>\n",
       " <div class=\"d-inline-block js-toggler-container starring-container\">\n",
       " <a aria-label=\"You must be signed in to star a topic\" class=\"btn btn-sm d-flex flex-items-center\" data-ga-click=\"Explore, click star button when signed out,\n",
       "         action:topics#index;\n",
       "         text:Star\" href=\"/login?return_to=%2Ftopics%2Falgorithm\" title=\"You must be signed in to star a topic\">\n",
       " <svg aria-hidden=\"true\" class=\"octicon octicon-star mr-1\" height=\"16\" version=\"1.1\" viewbox=\"0 0 16 16\" width=\"16\"><path d=\"M8 .25a.75.75 0 01.673.418l1.882 3.815 4.21.612a.75.75 0 01.416 1.279l-3.046 2.97.719 4.192a.75.75 0 01-1.088.791L8 12.347l-3.766 1.98a.75.75 0 01-1.088-.79l.72-4.194L.818 6.374a.75.75 0 01.416-1.28l4.21-.611L7.327.668A.75.75 0 018 .25zm0 2.445L6.615 5.5a.75.75 0 01-.564.41l-3.097.45 2.24 2.184a.75.75 0 01.216.664l-.528 3.084 2.769-1.456a.75.75 0 01.698 0l2.77 1.456-.53-3.084a.75.75 0 01.216-.664l2.24-2.183-3.096-.45a.75.75 0 01-.564-.41L8 2.694v.001z\" fill-rule=\"evenodd\"></path></svg>Star\n",
       "     </a>\n",
       " </div>\n",
       " </div>\n",
       " </a>,\n",
       " <a class=\"d-flex no-underline\" data-ga-click=\"Explore, go to amphp, location:All featured topics\" href=\"/topics/amphp\">\n",
       " <img alt=\"amphp\" class=\"rounded mr-3\" height=\"64\" src=\"https://raw.githubusercontent.com/github/explore/80688e429a7d4ef2fca1e82350fe8e3517d3494d/topics/amphp/amphp.png\" width=\"64\"/>\n",
       " <div class=\"d-sm-flex flex-auto\">\n",
       " <div class=\"flex-auto\">\n",
       " <p class=\"f3 lh-condensed mb-0 mt-1 Link--primary\">Amp</p>\n",
       " <p class=\"f5 color-text-secondary mb-0 mt-1\">\n",
       "               Amp is a non-blocking concurrency framework for PHP.\n",
       "             </p>\n",
       " </div>\n",
       " <div class=\"d-inline-block js-toggler-container starring-container\">\n",
       " <a aria-label=\"You must be signed in to star a topic\" class=\"btn btn-sm d-flex flex-items-center\" data-ga-click=\"Explore, click star button when signed out,\n",
       "         action:topics#index;\n",
       "         text:Star\" href=\"/login?return_to=%2Ftopics%2Famphp\" title=\"You must be signed in to star a topic\">\n",
       " <svg aria-hidden=\"true\" class=\"octicon octicon-star mr-1\" height=\"16\" version=\"1.1\" viewbox=\"0 0 16 16\" width=\"16\"><path d=\"M8 .25a.75.75 0 01.673.418l1.882 3.815 4.21.612a.75.75 0 01.416 1.279l-3.046 2.97.719 4.192a.75.75 0 01-1.088.791L8 12.347l-3.766 1.98a.75.75 0 01-1.088-.79l.72-4.194L.818 6.374a.75.75 0 01.416-1.28l4.21-.611L7.327.668A.75.75 0 018 .25zm0 2.445L6.615 5.5a.75.75 0 01-.564.41l-3.097.45 2.24 2.184a.75.75 0 01.216.664l-.528 3.084 2.769-1.456a.75.75 0 01.698 0l2.77 1.456-.53-3.084a.75.75 0 01.216-.664l2.24-2.183-3.096-.45a.75.75 0 01-.564-.41L8 2.694v.001z\" fill-rule=\"evenodd\"></path></svg>Star\n",
       "     </a>\n",
       " </div>\n",
       " </div>\n",
       " </a>,\n",
       " <a class=\"d-flex no-underline\" data-ga-click=\"Explore, go to android, location:All featured topics\" href=\"/topics/android\">\n",
       " <img alt=\"android\" class=\"rounded mr-3\" height=\"64\" src=\"https://raw.githubusercontent.com/github/explore/80688e429a7d4ef2fca1e82350fe8e3517d3494d/topics/android/android.png\" width=\"64\"/>\n",
       " <div class=\"d-sm-flex flex-auto\">\n",
       " <div class=\"flex-auto\">\n",
       " <p class=\"f3 lh-condensed mb-0 mt-1 Link--primary\">Android</p>\n",
       " <p class=\"f5 color-text-secondary mb-0 mt-1\">\n",
       "               Android is an operating system built by Google designed for mobile devices.\n",
       "             </p>\n",
       " </div>\n",
       " <div class=\"d-inline-block js-toggler-container starring-container\">\n",
       " <a aria-label=\"You must be signed in to star a topic\" class=\"btn btn-sm d-flex flex-items-center\" data-ga-click=\"Explore, click star button when signed out,\n",
       "         action:topics#index;\n",
       "         text:Star\" href=\"/login?return_to=%2Ftopics%2Fandroid\" title=\"You must be signed in to star a topic\">\n",
       " <svg aria-hidden=\"true\" class=\"octicon octicon-star mr-1\" height=\"16\" version=\"1.1\" viewbox=\"0 0 16 16\" width=\"16\"><path d=\"M8 .25a.75.75 0 01.673.418l1.882 3.815 4.21.612a.75.75 0 01.416 1.279l-3.046 2.97.719 4.192a.75.75 0 01-1.088.791L8 12.347l-3.766 1.98a.75.75 0 01-1.088-.79l.72-4.194L.818 6.374a.75.75 0 01.416-1.28l4.21-.611L7.327.668A.75.75 0 018 .25zm0 2.445L6.615 5.5a.75.75 0 01-.564.41l-3.097.45 2.24 2.184a.75.75 0 01.216.664l-.528 3.084 2.769-1.456a.75.75 0 01.698 0l2.77 1.456-.53-3.084a.75.75 0 01.216-.664l2.24-2.183-3.096-.45a.75.75 0 01-.564-.41L8 2.694v.001z\" fill-rule=\"evenodd\"></path></svg>Star\n",
       "     </a>\n",
       " </div>\n",
       " </div>\n",
       " </a>]"
      ]
     },
     "metadata": {},
     "execution_count": 58
    }
   ],
   "source": [
    "topicLink[:5]"
   ]
  },
  {
   "cell_type": "code",
   "execution_count": 61,
   "metadata": {},
   "outputs": [
    {
     "output_type": "execute_result",
     "data": {
      "text/plain": [
       "'/topics/3d'"
      ]
     },
     "metadata": {},
     "execution_count": 61
    }
   ],
   "source": [
    "topicLink[0]['href']"
   ]
  },
  {
   "cell_type": "code",
   "execution_count": 64,
   "metadata": {},
   "outputs": [
    {
     "output_type": "execute_result",
     "data": {
      "text/plain": [
       "'3D modeling is the process of virtually developing the surface and structure of a 3D object.'"
      ]
     },
     "metadata": {},
     "execution_count": 64
    }
   ],
   "source": [
    "topicDescriptionParagraph[0].text.strip()"
   ]
  },
  {
   "cell_type": "code",
   "execution_count": 65,
   "metadata": {},
   "outputs": [],
   "source": [
    "topicNames = []\n",
    "for name in topicNameParagraph:\n",
    "    topicNames.append(name.text.strip())"
   ]
  },
  {
   "cell_type": "code",
   "execution_count": 66,
   "metadata": {},
   "outputs": [
    {
     "output_type": "execute_result",
     "data": {
      "text/plain": [
       "['3D', 'Ajax', 'Algorithm', 'Amp', 'Android']"
      ]
     },
     "metadata": {},
     "execution_count": 66
    }
   ],
   "source": [
    "topicNames[:5]"
   ]
  },
  {
   "cell_type": "code",
   "execution_count": 67,
   "metadata": {},
   "outputs": [],
   "source": [
    "topicDescriptions = []\n",
    "for description in topicDescriptionParagraph:\n",
    "    topicDescriptions.append(description.text.strip())"
   ]
  },
  {
   "cell_type": "code",
   "execution_count": 69,
   "metadata": {},
   "outputs": [
    {
     "output_type": "execute_result",
     "data": {
      "text/plain": [
       "['3D modeling is the process of virtually developing the surface and structure of a 3D object.',\n",
       " 'Ajax is a technique for creating interactive web applications.',\n",
       " 'Algorithms are self-contained sequences that carry out a variety of tasks.',\n",
       " 'Amp is a non-blocking concurrency framework for PHP.',\n",
       " 'Android is an operating system built by Google designed for mobile devices.']"
      ]
     },
     "metadata": {},
     "execution_count": 69
    }
   ],
   "source": [
    "topicDescriptions[:5]"
   ]
  },
  {
   "cell_type": "code",
   "execution_count": 73,
   "metadata": {},
   "outputs": [],
   "source": [
    "topicLinks = []\n",
    "for url in topicLink:\n",
    "    topicLinks.append('https://github.com/'+url['href'].strip())"
   ]
  },
  {
   "cell_type": "code",
   "execution_count": 74,
   "metadata": {},
   "outputs": [
    {
     "output_type": "execute_result",
     "data": {
      "text/plain": [
       "['https://github.com//topics/3d',\n",
       " 'https://github.com//topics/ajax',\n",
       " 'https://github.com//topics/algorithm',\n",
       " 'https://github.com//topics/amphp',\n",
       " 'https://github.com//topics/android']"
      ]
     },
     "metadata": {},
     "execution_count": 74
    }
   ],
   "source": [
    "topicLinks[:5]"
   ]
  },
  {
   "source": [
    "## 4.Create CSV file(s) with the extracted information\n",
    "- Create functions for the end-to-end process of downloading, parsing, and saving CSVs.\n",
    "- Execute the function with different inputs to create a dataset of CSV files.\n",
    "- Verify the information in the CSV files by reading them back using Pandas."
   ],
   "cell_type": "markdown",
   "metadata": {}
  },
  {
   "cell_type": "code",
   "execution_count": 77,
   "metadata": {},
   "outputs": [],
   "source": [
    "df1Dict = {\n",
    "    \"Topic Title\":topicNames,\n",
    "    \"Topic Description\":topicDescriptions,\n",
    "    \"Topic URL\":topicLinks,\n",
    "}"
   ]
  },
  {
   "cell_type": "code",
   "execution_count": 79,
   "metadata": {},
   "outputs": [],
   "source": [
    "df1 = pd.DataFrame(df1Dict)"
   ]
  },
  {
   "cell_type": "code",
   "execution_count": 80,
   "metadata": {},
   "outputs": [
    {
     "output_type": "execute_result",
     "data": {
      "text/plain": [
       "  Topic Title                                  Topic Description  \\\n",
       "0          3D  3D modeling is the process of virtually develo...   \n",
       "1        Ajax  Ajax is a technique for creating interactive w...   \n",
       "2   Algorithm  Algorithms are self-contained sequences that c...   \n",
       "3         Amp  Amp is a non-blocking concurrency framework fo...   \n",
       "4     Android  Android is an operating system built by Google...   \n",
       "\n",
       "                              Topic URL  \n",
       "0         https://github.com//topics/3d  \n",
       "1       https://github.com//topics/ajax  \n",
       "2  https://github.com//topics/algorithm  \n",
       "3      https://github.com//topics/amphp  \n",
       "4    https://github.com//topics/android  "
      ],
      "text/html": "<div>\n<style scoped>\n    .dataframe tbody tr th:only-of-type {\n        vertical-align: middle;\n    }\n\n    .dataframe tbody tr th {\n        vertical-align: top;\n    }\n\n    .dataframe thead th {\n        text-align: right;\n    }\n</style>\n<table border=\"1\" class=\"dataframe\">\n  <thead>\n    <tr style=\"text-align: right;\">\n      <th></th>\n      <th>Topic Title</th>\n      <th>Topic Description</th>\n      <th>Topic URL</th>\n    </tr>\n  </thead>\n  <tbody>\n    <tr>\n      <th>0</th>\n      <td>3D</td>\n      <td>3D modeling is the process of virtually develo...</td>\n      <td>https://github.com//topics/3d</td>\n    </tr>\n    <tr>\n      <th>1</th>\n      <td>Ajax</td>\n      <td>Ajax is a technique for creating interactive w...</td>\n      <td>https://github.com//topics/ajax</td>\n    </tr>\n    <tr>\n      <th>2</th>\n      <td>Algorithm</td>\n      <td>Algorithms are self-contained sequences that c...</td>\n      <td>https://github.com//topics/algorithm</td>\n    </tr>\n    <tr>\n      <th>3</th>\n      <td>Amp</td>\n      <td>Amp is a non-blocking concurrency framework fo...</td>\n      <td>https://github.com//topics/amphp</td>\n    </tr>\n    <tr>\n      <th>4</th>\n      <td>Android</td>\n      <td>Android is an operating system built by Google...</td>\n      <td>https://github.com//topics/android</td>\n    </tr>\n  </tbody>\n</table>\n</div>"
     },
     "metadata": {},
     "execution_count": 80
    }
   ],
   "source": [
    "df1.head()"
   ]
  },
  {
   "cell_type": "code",
   "execution_count": 82,
   "metadata": {},
   "outputs": [],
   "source": [
    "df1.to_csv('topicDataFrame.csv',index=None)"
   ]
  }
 ]
}
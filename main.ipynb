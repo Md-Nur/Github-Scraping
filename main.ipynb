{
 "metadata": {
  "language_info": {
   "codemirror_mode": {
    "name": "ipython",
    "version": 3
   },
   "file_extension": ".py",
   "mimetype": "text/x-python",
   "name": "python",
   "nbconvert_exporter": "python",
   "pygments_lexer": "ipython3",
   "version": "3.9.5"
  },
  "orig_nbformat": 2,
  "kernelspec": {
   "name": "python395jvsc74a57bd08d843348d49f28d28bd5793edc7ef81dd140b8e72c0b21f68f65a7e71f8a67df",
   "display_name": "Python 3.9.5 64-bit"
  },
  "metadata": {
   "interpreter": {
    "hash": "8d843348d49f28d28bd5793edc7ef81dd140b8e72c0b21f68f65a7e71f8a67df"
   }
  }
 },
 "nbformat": 4,
 "nbformat_minor": 2,
 "cells": [
  {
   "source": [
    "# Guideline to create a webscraping project\n",
    "## 1. Pick a website and describe your objective\n",
    "- Browse through different sites and pick on to scrape. Check the \"Project Ideas\" section for inspiration.\n",
    "- Identify the information you'd like to scrape from the site. Decide the format of the output CSV file.\n",
    "- Summarize your project idea and outline your strategy in a Juptyer notebook. Use the \"New\" button above.\n",
    "\n",
    "### Outline\n",
    "- We are going to scrap : https://github.com/topics\n",
    "- We will get a list of tiopics. For each topic we will get repo name, username, stars and page link url\n",
    "- We will find 25 repsitories info\n",
    "- For each 25 repsitories we will get a CSV file in this format\n",
    "```\n",
    "Repository Name,Username,Strats,Page URL\n",
    "three.js,mrdoob,71400,https://github.com/mrdoob/three.js\n",
    "libgdx,libgdx,18500,https://github.com/libgdx/libgdx\n",
    "```"
   ],
   "cell_type": "markdown",
   "metadata": {}
  },
  {
   "source": [
    "### Install Modules"
   ],
   "cell_type": "markdown",
   "metadata": {}
  },
  {
   "cell_type": "code",
   "execution_count": 232,
   "metadata": {},
   "outputs": [],
   "source": [
    "!pip install requests --upgrade --quiet\n",
    "!pip install beautifulsoup4 --upgrade --quiet"
   ]
  },
  {
   "source": [
    "### Import Modules"
   ],
   "cell_type": "markdown",
   "metadata": {}
  },
  {
   "cell_type": "code",
   "execution_count": 233,
   "metadata": {},
   "outputs": [],
   "source": [
    "import requests\n",
    "from bs4 import BeautifulSoup\n",
    "import pandas as pd\n",
    "import pandas_profiling as pp "
   ]
  },
  {
   "cell_type": "code",
   "execution_count": 234,
   "metadata": {},
   "outputs": [],
   "source": [
    "pageLink = 'https://github.com/topics'\n",
    "response = requests.get(pageLink)"
   ]
  },
  {
   "cell_type": "code",
   "execution_count": 235,
   "metadata": {},
   "outputs": [
    {
     "output_type": "execute_result",
     "data": {
      "text/plain": [
       "200"
      ]
     },
     "metadata": {},
     "execution_count": 235
    }
   ],
   "source": [
    "response.status_code"
   ]
  },
  {
   "cell_type": "code",
   "execution_count": 236,
   "metadata": {},
   "outputs": [
    {
     "output_type": "execute_result",
     "data": {
      "text/plain": [
       "129066"
      ]
     },
     "metadata": {},
     "execution_count": 236
    }
   ],
   "source": [
    "len(response.text)"
   ]
  },
  {
   "source": [
    "## 2.Use the requests library to download web pages\n",
    "- Inspect the website's HTML source and identify the right URLs to download.\n",
    "- Download and save web pages locally using the requests library.\n",
    "- Create a function to automate downloading for different topics/search queries."
   ],
   "cell_type": "markdown",
   "metadata": {}
  },
  {
   "cell_type": "code",
   "execution_count": 237,
   "metadata": {},
   "outputs": [],
   "source": [
    "pageContent = response.text"
   ]
  },
  {
   "cell_type": "code",
   "execution_count": 238,
   "metadata": {},
   "outputs": [
    {
     "output_type": "execute_result",
     "data": {
      "text/plain": [
       "'\\n\\n<!DOCTYPE html>\\n<html lang=\"en\" data-color-mode=\"auto\" data-light-theme=\"light\" data-dark-theme=\"dark\">\\n  <head>\\n    <meta charset=\"utf-8\">\\n  <link rel=\"dns-prefetch\" href=\"https://github.githubassets.com\">\\n  <link rel=\"dns-prefetch\" href=\"https://avatars.githubusercontent.com\">\\n  <link rel=\"dns-prefetch\" href=\"https://github-cloud.s3.amazonaws.com\">\\n  <link rel=\"dns-prefetch\" href=\"https://user-images.githubusercontent.com/\">\\n\\n\\n\\n  <link crossorigin=\"anonymous\" media=\"all\" integrity=\"sha512-yiSzZyQYjjSm73vWjlt23NeW6XsLBACzGZv3ZHwxQ9zgCby0YYjfFxEAXErxlKcQ4ke40vqUiKcvuFn8QZfP1w==\" rel=\"stylesheet\" href=\"https://github.githubassets.com/assets/frameworks-ca24b36724188e34a6ef7bd68e5b76dc.css\" />\\n  \\n    <link crossorigin=\"anonymous\" media=\"all\" integrity=\"sha512-vvcQc56Qj8Yfd1jyEk2XzB3+mWlykbMgyQQ/wwu4JU+YViiQnG8ItjwPyj3Jx5SjqqqOK/adpzLRqb1Fol1TuA==\" rel=\"stylesheet\" href=\"https://github.githubassets.com/assets/behaviors-bef710739e908fc61f7758f2124d97cc.css\" />\\n    \\n    \\n    \\n    <link cro'"
      ]
     },
     "metadata": {},
     "execution_count": 238
    }
   ],
   "source": [
    "pageContent[:1000]"
   ]
  },
  {
   "cell_type": "code",
   "execution_count": 239,
   "metadata": {},
   "outputs": [],
   "source": [
    "# with open('main.html','w') as f:\n",
    "#     f.write(pageContent)\n",
    "with open('main.html', \"w\", encoding=\"utf-8\") as f:\n",
    "    f.write(pageContent)"
   ]
  },
  {
   "source": [
    "## 3.Use Beautiful Soup to parse and extract information\n",
    "- Parse and explore the structure of downloaded web pages using Beautiful soup.\n",
    "- Use the right properties and methods to extract the required information.\n",
    "- Create functions to extract from the page into lists and dictionaries.\n",
    "(Optional) Use a REST API to acquire additional information if required."
   ],
   "cell_type": "markdown",
   "metadata": {}
  },
  {
   "cell_type": "code",
   "execution_count": 240,
   "metadata": {},
   "outputs": [],
   "source": [
    "soup = BeautifulSoup(pageContent, 'html.parser')"
   ]
  },
  {
   "cell_type": "code",
   "execution_count": 241,
   "metadata": {},
   "outputs": [
    {
     "output_type": "execute_result",
     "data": {
      "text/plain": [
       "bs4.BeautifulSoup"
      ]
     },
     "metadata": {},
     "execution_count": 241
    }
   ],
   "source": [
    "type(soup)"
   ]
  },
  {
   "cell_type": "code",
   "execution_count": 242,
   "metadata": {},
   "outputs": [],
   "source": [
    "topicNameClass = 'f3 lh-condensed mb-0 mt-1 Link--primary'\n",
    "# topicNameParagraph = soup.find_all('p',class_=topicNameClass)\n",
    "topicNameParagraph = soup.find_all('p',topicNameClass) # Not need to write the class attribute"
   ]
  },
  {
   "cell_type": "code",
   "execution_count": 243,
   "metadata": {},
   "outputs": [
    {
     "output_type": "execute_result",
     "data": {
      "text/plain": [
       "30"
      ]
     },
     "metadata": {},
     "execution_count": 243
    }
   ],
   "source": [
    "len(topicNameParagraph)"
   ]
  },
  {
   "cell_type": "code",
   "execution_count": 244,
   "metadata": {},
   "outputs": [
    {
     "output_type": "execute_result",
     "data": {
      "text/plain": [
       "[<p class=\"f3 lh-condensed mb-0 mt-1 Link--primary\">3D</p>,\n",
       " <p class=\"f3 lh-condensed mb-0 mt-1 Link--primary\">Ajax</p>,\n",
       " <p class=\"f3 lh-condensed mb-0 mt-1 Link--primary\">Algorithm</p>,\n",
       " <p class=\"f3 lh-condensed mb-0 mt-1 Link--primary\">Amp</p>,\n",
       " <p class=\"f3 lh-condensed mb-0 mt-1 Link--primary\">Android</p>]"
      ]
     },
     "metadata": {},
     "execution_count": 244
    }
   ],
   "source": [
    "topicNameParagraph[:5]"
   ]
  },
  {
   "cell_type": "code",
   "execution_count": 245,
   "metadata": {},
   "outputs": [],
   "source": [
    "topicDescriptionClass = 'f5 color-text-secondary mb-0 mt-1'\n",
    "topicDescriptionParagraph = soup.find_all('p',topicDescriptionClass)"
   ]
  },
  {
   "cell_type": "code",
   "execution_count": 246,
   "metadata": {},
   "outputs": [
    {
     "output_type": "execute_result",
     "data": {
      "text/plain": [
       "30"
      ]
     },
     "metadata": {},
     "execution_count": 246
    }
   ],
   "source": [
    "len(topicDescriptionParagraph)"
   ]
  },
  {
   "cell_type": "code",
   "execution_count": 247,
   "metadata": {},
   "outputs": [
    {
     "output_type": "execute_result",
     "data": {
      "text/plain": [
       "[<p class=\"f5 color-text-secondary mb-0 mt-1\">\n",
       "               3D modeling is the process of virtually developing the surface and structure of a 3D object.\n",
       "             </p>,\n",
       " <p class=\"f5 color-text-secondary mb-0 mt-1\">\n",
       "               Ajax is a technique for creating interactive web applications.\n",
       "             </p>,\n",
       " <p class=\"f5 color-text-secondary mb-0 mt-1\">\n",
       "               Algorithms are self-contained sequences that carry out a variety of tasks.\n",
       "             </p>,\n",
       " <p class=\"f5 color-text-secondary mb-0 mt-1\">\n",
       "               Amp is a non-blocking concurrency framework for PHP.\n",
       "             </p>,\n",
       " <p class=\"f5 color-text-secondary mb-0 mt-1\">\n",
       "               Android is an operating system built by Google designed for mobile devices.\n",
       "             </p>]"
      ]
     },
     "metadata": {},
     "execution_count": 247
    }
   ],
   "source": [
    "topicDescriptionParagraph[:5]"
   ]
  },
  {
   "cell_type": "code",
   "execution_count": 248,
   "metadata": {},
   "outputs": [],
   "source": [
    "topicLinkClass = 'd-flex no-underline'\n",
    "topicLink = soup.find_all('a',topicLinkClass)"
   ]
  },
  {
   "cell_type": "code",
   "execution_count": 249,
   "metadata": {},
   "outputs": [
    {
     "output_type": "execute_result",
     "data": {
      "text/plain": [
       "30"
      ]
     },
     "metadata": {},
     "execution_count": 249
    }
   ],
   "source": [
    "len(topicLink)"
   ]
  },
  {
   "cell_type": "code",
   "execution_count": 250,
   "metadata": {},
   "outputs": [],
   "source": [
    "# topicLink[:5]"
   ]
  },
  {
   "cell_type": "code",
   "execution_count": 251,
   "metadata": {},
   "outputs": [
    {
     "output_type": "execute_result",
     "data": {
      "text/plain": [
       "'/topics/3d'"
      ]
     },
     "metadata": {},
     "execution_count": 251
    }
   ],
   "source": [
    "topicLink[0]['href']"
   ]
  },
  {
   "cell_type": "code",
   "execution_count": 252,
   "metadata": {},
   "outputs": [
    {
     "output_type": "execute_result",
     "data": {
      "text/plain": [
       "'3D modeling is the process of virtually developing the surface and structure of a 3D object.'"
      ]
     },
     "metadata": {},
     "execution_count": 252
    }
   ],
   "source": [
    "topicDescriptionParagraph[0].text.strip()"
   ]
  },
  {
   "cell_type": "code",
   "execution_count": 253,
   "metadata": {},
   "outputs": [],
   "source": [
    "topicNames = []\n",
    "for name in topicNameParagraph:\n",
    "    topicNames.append(name.text.strip())"
   ]
  },
  {
   "cell_type": "code",
   "execution_count": 254,
   "metadata": {},
   "outputs": [
    {
     "output_type": "execute_result",
     "data": {
      "text/plain": [
       "['3D', 'Ajax', 'Algorithm', 'Amp', 'Android']"
      ]
     },
     "metadata": {},
     "execution_count": 254
    }
   ],
   "source": [
    "topicNames[:5]"
   ]
  },
  {
   "cell_type": "code",
   "execution_count": 255,
   "metadata": {},
   "outputs": [],
   "source": [
    "topicDescriptions = []\n",
    "for description in topicDescriptionParagraph:\n",
    "    topicDescriptions.append(description.text.strip())"
   ]
  },
  {
   "cell_type": "code",
   "execution_count": 256,
   "metadata": {},
   "outputs": [
    {
     "output_type": "execute_result",
     "data": {
      "text/plain": [
       "['3D modeling is the process of virtually developing the surface and structure of a 3D object.',\n",
       " 'Ajax is a technique for creating interactive web applications.',\n",
       " 'Algorithms are self-contained sequences that carry out a variety of tasks.',\n",
       " 'Amp is a non-blocking concurrency framework for PHP.',\n",
       " 'Android is an operating system built by Google designed for mobile devices.']"
      ]
     },
     "metadata": {},
     "execution_count": 256
    }
   ],
   "source": [
    "topicDescriptions[:5]"
   ]
  },
  {
   "cell_type": "code",
   "execution_count": 257,
   "metadata": {},
   "outputs": [],
   "source": [
    "baseUrl = 'https://github.com'"
   ]
  },
  {
   "cell_type": "code",
   "execution_count": 258,
   "metadata": {},
   "outputs": [],
   "source": [
    "topicLinks = []\n",
    "for url in topicLink:\n",
    "    topicLinks.append(baseUrl+url['href'].strip())"
   ]
  },
  {
   "cell_type": "code",
   "execution_count": 259,
   "metadata": {},
   "outputs": [
    {
     "output_type": "execute_result",
     "data": {
      "text/plain": [
       "['https://github.com/topics/3d',\n",
       " 'https://github.com/topics/ajax',\n",
       " 'https://github.com/topics/algorithm',\n",
       " 'https://github.com/topics/amphp',\n",
       " 'https://github.com/topics/android']"
      ]
     },
     "metadata": {},
     "execution_count": 259
    }
   ],
   "source": [
    "topicLinks[:5]"
   ]
  },
  {
   "source": [
    "## 4.Create CSV file(s) with the extracted information\n",
    "- Create functions for the end-to-end process of downloading, parsing, and saving CSVs.\n",
    "- Execute the function with different inputs to create a dataset of CSV files.\n",
    "- Verify the information in the CSV files by reading them back using Pandas."
   ],
   "cell_type": "markdown",
   "metadata": {}
  },
  {
   "cell_type": "code",
   "execution_count": 260,
   "metadata": {},
   "outputs": [],
   "source": [
    "df1Dict = {\n",
    "    \"Topic Title\":topicNames,\n",
    "    \"Topic Description\":topicDescriptions,\n",
    "    \"Topic URL\":topicLinks,\n",
    "}"
   ]
  },
  {
   "cell_type": "code",
   "execution_count": 261,
   "metadata": {},
   "outputs": [],
   "source": [
    "df1 = pd.DataFrame(df1Dict)"
   ]
  },
  {
   "cell_type": "code",
   "execution_count": 262,
   "metadata": {},
   "outputs": [
    {
     "output_type": "execute_result",
     "data": {
      "text/plain": [
       "  Topic Title                                  Topic Description  \\\n",
       "0          3D  3D modeling is the process of virtually develo...   \n",
       "1        Ajax  Ajax is a technique for creating interactive w...   \n",
       "2   Algorithm  Algorithms are self-contained sequences that c...   \n",
       "3         Amp  Amp is a non-blocking concurrency framework fo...   \n",
       "4     Android  Android is an operating system built by Google...   \n",
       "\n",
       "                             Topic URL  \n",
       "0         https://github.com/topics/3d  \n",
       "1       https://github.com/topics/ajax  \n",
       "2  https://github.com/topics/algorithm  \n",
       "3      https://github.com/topics/amphp  \n",
       "4    https://github.com/topics/android  "
      ],
      "text/html": "<div>\n<style scoped>\n    .dataframe tbody tr th:only-of-type {\n        vertical-align: middle;\n    }\n\n    .dataframe tbody tr th {\n        vertical-align: top;\n    }\n\n    .dataframe thead th {\n        text-align: right;\n    }\n</style>\n<table border=\"1\" class=\"dataframe\">\n  <thead>\n    <tr style=\"text-align: right;\">\n      <th></th>\n      <th>Topic Title</th>\n      <th>Topic Description</th>\n      <th>Topic URL</th>\n    </tr>\n  </thead>\n  <tbody>\n    <tr>\n      <th>0</th>\n      <td>3D</td>\n      <td>3D modeling is the process of virtually develo...</td>\n      <td>https://github.com/topics/3d</td>\n    </tr>\n    <tr>\n      <th>1</th>\n      <td>Ajax</td>\n      <td>Ajax is a technique for creating interactive w...</td>\n      <td>https://github.com/topics/ajax</td>\n    </tr>\n    <tr>\n      <th>2</th>\n      <td>Algorithm</td>\n      <td>Algorithms are self-contained sequences that c...</td>\n      <td>https://github.com/topics/algorithm</td>\n    </tr>\n    <tr>\n      <th>3</th>\n      <td>Amp</td>\n      <td>Amp is a non-blocking concurrency framework fo...</td>\n      <td>https://github.com/topics/amphp</td>\n    </tr>\n    <tr>\n      <th>4</th>\n      <td>Android</td>\n      <td>Android is an operating system built by Google...</td>\n      <td>https://github.com/topics/android</td>\n    </tr>\n  </tbody>\n</table>\n</div>"
     },
     "metadata": {},
     "execution_count": 262
    }
   ],
   "source": [
    "df1.head()"
   ]
  },
  {
   "cell_type": "code",
   "execution_count": 263,
   "metadata": {},
   "outputs": [],
   "source": [
    "df1.to_csv('topicDataFrame.csv',index=None)"
   ]
  },
  {
   "cell_type": "code",
   "execution_count": 264,
   "metadata": {},
   "outputs": [
    {
     "output_type": "stream",
     "name": "stderr",
     "text": [
      "Summarize dataset: 100%|██████████| 16/16 [00:01<00:00,  8.17it/s, Completed]\n",
      "Generate report structure: 100%|██████████| 1/1 [00:01<00:00,  1.05s/it]\n",
      "Render HTML: 100%|██████████| 1/1 [00:00<00:00,  5.54it/s]\n",
      "Export report to file: 100%|██████████| 1/1 [00:00<00:00,  6.68it/s]\n"
     ]
    }
   ],
   "source": [
    "profile = pp.ProfileReport(df1)\n",
    "profile.to_file(output_file='output.html')"
   ]
  },
  {
   "cell_type": "code",
   "execution_count": 265,
   "metadata": {},
   "outputs": [],
   "source": [
    "topicLinkPage = topicLinks[29]"
   ]
  },
  {
   "cell_type": "code",
   "execution_count": 266,
   "metadata": {},
   "outputs": [
    {
     "output_type": "execute_result",
     "data": {
      "text/plain": [
       "'https://github.com/topics/cpp'"
      ]
     },
     "metadata": {},
     "execution_count": 266
    }
   ],
   "source": [
    "topicLinkPage"
   ]
  },
  {
   "cell_type": "code",
   "execution_count": 267,
   "metadata": {},
   "outputs": [
    {
     "output_type": "execute_result",
     "data": {
      "text/plain": [
       "200"
      ]
     },
     "metadata": {},
     "execution_count": 267
    }
   ],
   "source": [
    "response1 = requests.get(topicLinkPage)\n",
    "response1.status_code"
   ]
  },
  {
   "cell_type": "code",
   "execution_count": 268,
   "metadata": {},
   "outputs": [
    {
     "output_type": "execute_result",
     "data": {
      "text/plain": [
       "638073"
      ]
     },
     "metadata": {},
     "execution_count": 268
    }
   ],
   "source": [
    "len(response1.text)"
   ]
  },
  {
   "cell_type": "code",
   "execution_count": 269,
   "metadata": {},
   "outputs": [],
   "source": [
    "topicInfo = BeautifulSoup(response1.text,'html.parser')"
   ]
  },
  {
   "cell_type": "code",
   "execution_count": 270,
   "metadata": {},
   "outputs": [],
   "source": [
    "repo_unClass = 'f3 color-text-secondary text-normal lh-condensed'\n",
    "repo_un = topicInfo.find_all('h1',repo_unClass)\n"
   ]
  },
  {
   "cell_type": "code",
   "execution_count": 271,
   "metadata": {},
   "outputs": [
    {
     "output_type": "execute_result",
     "data": {
      "text/plain": [
       "<h1 class=\"f3 color-text-secondary text-normal lh-condensed\">\n",
       "<a data-ga-click=\"Explore, go to repository owner, location:explore feed\" data-hydro-click='{\"event_type\":\"explore.click\",\"payload\":{\"click_context\":\"REPOSITORY_CARD\",\"click_target\":\"OWNER\",\"click_visual_representation\":\"REPOSITORY_OWNER_HEADING\",\"actor_id\":null,\"record_id\":36260787,\"originating_url\":\"https://github.com/topics/cpp\",\"user_id\":null}}' data-hydro-click-hmac=\"62c5fcd0d58a5057103d91a8bff8d5aa6514b22f1d48ad914bf5800c85feb280\" data-view-component=\"true\" href=\"/CyC2018\">\n",
       "            CyC2018\n",
       "</a>          /\n",
       "          <a class=\"text-bold\" data-ga-click=\"Explore, go to repository, location:explore feed\" data-hydro-click='{\"event_type\":\"explore.click\",\"payload\":{\"click_context\":\"REPOSITORY_CARD\",\"click_target\":\"REPOSITORY\",\"click_visual_representation\":\"REPOSITORY_NAME_HEADING\",\"actor_id\":null,\"record_id\":121395510,\"originating_url\":\"https://github.com/topics/cpp\",\"user_id\":null}}' data-hydro-click-hmac=\"f4a2f63e271a64f642e0a4372bdebc785bf8b4ca7200f6888e11db374ca232ea\" data-view-component=\"true\" href=\"/CyC2018/CS-Notes\">\n",
       "            CS-Notes\n",
       "</a> </h1>"
      ]
     },
     "metadata": {},
     "execution_count": 271
    }
   ],
   "source": [
    "repo_un[0]"
   ]
  },
  {
   "source": [
    "# username = repo_un[0].find_all('a')\n",
    "# username[0].text.strip()\n",
    "# a = repo_un[0].find_all('a')\n",
    "# a[1]['href']\n",
    "usernames = []\n",
    "repoNames = []\n",
    "repoLinks = []\n",
    "for ru in repo_un:\n",
    "    un = ru.find_all('a')\n",
    "    usernames.append(un[0].text.strip())\n",
    "    repoNames.append(un[1].text.strip())\n",
    "    repoLinks.append(baseUrl+un[1]['href'])"
   ],
   "cell_type": "code",
   "metadata": {},
   "execution_count": 272,
   "outputs": []
  },
  {
   "cell_type": "code",
   "execution_count": 273,
   "metadata": {},
   "outputs": [
    {
     "output_type": "execute_result",
     "data": {
      "text/plain": [
       "30"
      ]
     },
     "metadata": {},
     "execution_count": 273
    }
   ],
   "source": [
    "len(usernames)"
   ]
  },
  {
   "cell_type": "code",
   "execution_count": 274,
   "metadata": {},
   "outputs": [
    {
     "output_type": "execute_result",
     "data": {
      "text/plain": [
       "['CyC2018', 'tuvtran', 'azl397985856', 'x64dbg', 'fffaraz']"
      ]
     },
     "metadata": {},
     "execution_count": 274
    }
   ],
   "source": [
    "usernames[:5]"
   ]
  },
  {
   "cell_type": "code",
   "execution_count": 275,
   "metadata": {},
   "outputs": [
    {
     "output_type": "execute_result",
     "data": {
      "text/plain": [
       "30"
      ]
     },
     "metadata": {},
     "execution_count": 275
    }
   ],
   "source": [
    "len(repoNames)"
   ]
  },
  {
   "cell_type": "code",
   "execution_count": 276,
   "metadata": {},
   "outputs": [
    {
     "output_type": "execute_result",
     "data": {
      "text/plain": [
       "['CS-Notes', 'project-based-learning', 'leetcode', 'x64dbg', 'awesome-cpp']"
      ]
     },
     "metadata": {},
     "execution_count": 276
    }
   ],
   "source": [
    "repoNames[:5]"
   ]
  },
  {
   "cell_type": "code",
   "execution_count": 277,
   "metadata": {},
   "outputs": [
    {
     "output_type": "execute_result",
     "data": {
      "text/plain": [
       "30"
      ]
     },
     "metadata": {},
     "execution_count": 277
    }
   ],
   "source": [
    "len(repoLinks)"
   ]
  },
  {
   "cell_type": "code",
   "execution_count": 278,
   "metadata": {},
   "outputs": [
    {
     "output_type": "execute_result",
     "data": {
      "text/plain": [
       "['https://github.com/CyC2018/CS-Notes',\n",
       " 'https://github.com/tuvtran/project-based-learning',\n",
       " 'https://github.com/azl397985856/leetcode',\n",
       " 'https://github.com/x64dbg/x64dbg',\n",
       " 'https://github.com/fffaraz/awesome-cpp']"
      ]
     },
     "metadata": {},
     "execution_count": 278
    }
   ],
   "source": [
    "repoLinks[:5]"
   ]
  },
  {
   "cell_type": "code",
   "execution_count": 279,
   "metadata": {},
   "outputs": [],
   "source": [
    "starClass = 'social-count float-none'\n",
    "star = topicInfo.find_all('a',starClass)"
   ]
  },
  {
   "cell_type": "code",
   "execution_count": 280,
   "metadata": {},
   "outputs": [],
   "source": [
    "stars = []\n",
    "for st in star:\n",
    "    s = float(st.text.strip()[:-1])\n",
    "    if (st.text.strip()[-1]!='k'):\n",
    "        s = float(st.text.strip())        \n",
    "    stars.append(s*1000)"
   ]
  },
  {
   "cell_type": "code",
   "execution_count": 281,
   "metadata": {},
   "outputs": [
    {
     "output_type": "execute_result",
     "data": {
      "text/plain": [
       "30"
      ]
     },
     "metadata": {},
     "execution_count": 281
    }
   ],
   "source": [
    "len(stars)"
   ]
  },
  {
   "cell_type": "code",
   "execution_count": 282,
   "metadata": {},
   "outputs": [
    {
     "output_type": "execute_result",
     "data": {
      "text/plain": [
       "[131000.0, 50900.0, 42400.0, 36800.0, 31800.0]"
      ]
     },
     "metadata": {},
     "execution_count": 282
    }
   ],
   "source": [
    "stars[:5]"
   ]
  },
  {
   "cell_type": "code",
   "execution_count": 283,
   "metadata": {},
   "outputs": [],
   "source": [
    "topicPageDfDict = {\n",
    "    'Repository_Name':repoNames,\n",
    "    'Username':usernames,\n",
    "    'Stars':stars,\n",
    "    'Repository_URL':repoLinks\n",
    "}\n",
    "topicDf = pd.DataFrame(topicPageDfDict)"
   ]
  },
  {
   "cell_type": "code",
   "execution_count": 284,
   "metadata": {},
   "outputs": [
    {
     "output_type": "execute_result",
     "data": {
      "text/plain": [
       "30"
      ]
     },
     "metadata": {},
     "execution_count": 284
    }
   ],
   "source": [
    "len(topicDf)"
   ]
  },
  {
   "cell_type": "code",
   "execution_count": 285,
   "metadata": {},
   "outputs": [
    {
     "output_type": "execute_result",
     "data": {
      "text/plain": [
       "          Repository_Name      Username     Stars  \\\n",
       "0                CS-Notes       CyC2018  131000.0   \n",
       "1  project-based-learning       tuvtran   50900.0   \n",
       "2                leetcode  azl397985856   42400.0   \n",
       "3                  x64dbg        x64dbg   36800.0   \n",
       "4             awesome-cpp       fffaraz   31800.0   \n",
       "\n",
       "                                      Repository_URL  \n",
       "0                https://github.com/CyC2018/CS-Notes  \n",
       "1  https://github.com/tuvtran/project-based-learning  \n",
       "2           https://github.com/azl397985856/leetcode  \n",
       "3                   https://github.com/x64dbg/x64dbg  \n",
       "4             https://github.com/fffaraz/awesome-cpp  "
      ],
      "text/html": "<div>\n<style scoped>\n    .dataframe tbody tr th:only-of-type {\n        vertical-align: middle;\n    }\n\n    .dataframe tbody tr th {\n        vertical-align: top;\n    }\n\n    .dataframe thead th {\n        text-align: right;\n    }\n</style>\n<table border=\"1\" class=\"dataframe\">\n  <thead>\n    <tr style=\"text-align: right;\">\n      <th></th>\n      <th>Repository_Name</th>\n      <th>Username</th>\n      <th>Stars</th>\n      <th>Repository_URL</th>\n    </tr>\n  </thead>\n  <tbody>\n    <tr>\n      <th>0</th>\n      <td>CS-Notes</td>\n      <td>CyC2018</td>\n      <td>131000.0</td>\n      <td>https://github.com/CyC2018/CS-Notes</td>\n    </tr>\n    <tr>\n      <th>1</th>\n      <td>project-based-learning</td>\n      <td>tuvtran</td>\n      <td>50900.0</td>\n      <td>https://github.com/tuvtran/project-based-learning</td>\n    </tr>\n    <tr>\n      <th>2</th>\n      <td>leetcode</td>\n      <td>azl397985856</td>\n      <td>42400.0</td>\n      <td>https://github.com/azl397985856/leetcode</td>\n    </tr>\n    <tr>\n      <th>3</th>\n      <td>x64dbg</td>\n      <td>x64dbg</td>\n      <td>36800.0</td>\n      <td>https://github.com/x64dbg/x64dbg</td>\n    </tr>\n    <tr>\n      <th>4</th>\n      <td>awesome-cpp</td>\n      <td>fffaraz</td>\n      <td>31800.0</td>\n      <td>https://github.com/fffaraz/awesome-cpp</td>\n    </tr>\n  </tbody>\n</table>\n</div>"
     },
     "metadata": {},
     "execution_count": 285
    }
   ],
   "source": [
    "topicDf[:5]"
   ]
  },
  {
   "cell_type": "code",
   "execution_count": 286,
   "metadata": {},
   "outputs": [],
   "source": [
    "allDf = []"
   ]
  },
  {
   "cell_type": "code",
   "execution_count": 287,
   "metadata": {},
   "outputs": [],
   "source": [
    "def topicsInfo(tpklnks = topicLinks[0]):\n",
    "    topicLinkPage = tpklnks\n",
    "    response1 = requests.get(topicLinkPage)\n",
    "    topicInfo = BeautifulSoup(response1.text,'html.parser')\n",
    "\n",
    "    repo_unClass = 'f3 color-text-secondary text-normal lh-condensed'\n",
    "    repo_un = topicInfo.find_all('h1',repo_unClass)\n",
    "\n",
    "    usernames = []\n",
    "    repoNames = []\n",
    "    repoLinks = []\n",
    "    stars = []\n",
    "    \n",
    "    for ru in repo_un:\n",
    "        un = ru.find_all('a')\n",
    "\n",
    "        usernames.append(un[0].text.strip())\n",
    "        repoNames.append(un[1].text.strip())\n",
    "        repoLinks.append(baseUrl+un[1]['href'])\n",
    "    \n",
    "    starClass = 'social-count float-none'\n",
    "    star = topicInfo.find_all('a',starClass)\n",
    "\n",
    "    for st in star:\n",
    "        s = float(st.text.strip()[:-1])\n",
    "\n",
    "        if (st.text.strip()[-1]!='k'):\n",
    "            s = float(st.text.strip()) \n",
    "\n",
    "        stars.append(s*1000)\n",
    "\n",
    "    topicPageDfDict = {\n",
    "        'Repository_Name':repoNames,\n",
    "        'Username':usernames,\n",
    "        'Stars':stars,\n",
    "        'Repository_URL':repoLinks,\n",
    "        }\n",
    "\n",
    "    topicDf=pd.DataFrame(topicPageDfDict)\n",
    "    # topicDfs.append(topicDf)\n",
    "    outputCsvFile = 'Topics Info'+tpklnks[25:]+'.csv'\n",
    "    topicDf.to_csv(outputCsvFile,index=None)\n",
    "    # outputHtmlFile = 'Topics Report'+tpklnks[25:]+'.html'\n",
    "    # profile1 = pp.ProfileReport(topicDf)\n",
    "    # profile1.to_file(output_file=outputHtmlFile)\n",
    "      \n",
    "    # topicDf['Topic Name'] = tpklnks[25:]\n",
    "    # topicsDfs=pd.concat([topicsDfs,topicDf])\n",
    "    topicDf[\"Topic Class\"]=tpklnks[25:]\n",
    "    allDf.append(topicDf)"
   ]
  },
  {
   "cell_type": "code",
   "execution_count": 288,
   "metadata": {},
   "outputs": [],
   "source": [
    "for links in topicLinks:\n",
    "    topicsInfo(links)"
   ]
  },
  {
   "cell_type": "code",
   "execution_count": 289,
   "metadata": {},
   "outputs": [
    {
     "output_type": "execute_result",
     "data": {
      "text/plain": [
       "30"
      ]
     },
     "metadata": {},
     "execution_count": 289
    }
   ],
   "source": [
    "len(allDf)"
   ]
  },
  {
   "cell_type": "code",
   "execution_count": 290,
   "metadata": {},
   "outputs": [
    {
     "output_type": "execute_result",
     "data": {
      "text/plain": [
       "'https://github.com/topics/cpp'"
      ]
     },
     "metadata": {},
     "execution_count": 290
    }
   ],
   "source": [
    "topicLinks[29]"
   ]
  },
  {
   "cell_type": "code",
   "execution_count": 291,
   "metadata": {},
   "outputs": [],
   "source": [
    "dfAll = pd.DataFrame()\n",
    "dfAll = pd.concat(allDf)\n",
    "dfAll.to_csv('allinfo.csv',index=None)"
   ]
  },
  {
   "cell_type": "code",
   "execution_count": null,
   "metadata": {},
   "outputs": [],
   "source": []
  }
 ]
}
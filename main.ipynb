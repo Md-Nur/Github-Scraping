{
 "metadata": {
  "language_info": {
   "codemirror_mode": {
    "name": "ipython",
    "version": 3
   },
   "file_extension": ".py",
   "mimetype": "text/x-python",
   "name": "python",
   "nbconvert_exporter": "python",
   "pygments_lexer": "ipython3",
   "version": "3.9.5"
  },
  "orig_nbformat": 2,
  "kernelspec": {
   "name": "python395jvsc74a57bd08d843348d49f28d28bd5793edc7ef81dd140b8e72c0b21f68f65a7e71f8a67df",
   "display_name": "Python 3.9.5 64-bit"
  },
  "metadata": {
   "interpreter": {
    "hash": "8d843348d49f28d28bd5793edc7ef81dd140b8e72c0b21f68f65a7e71f8a67df"
   }
  }
 },
 "nbformat": 4,
 "nbformat_minor": 2,
 "cells": [
  {
   "source": [
    "# Guideline to create a webscraping project\n",
    "## 1. Pick a website and describe your objective\n",
    "- Browse through different sites and pick on to scrape. Check the \"Project Ideas\" section for inspiration.\n",
    "- Identify the information you'd like to scrape from the site. Decide the format of the output CSV file.\n",
    "- Summarize your project idea and outline your strategy in a Juptyer notebook. Use the \"New\" button above.\n",
    "\n",
    "### Outline\n",
    "- We are going to scrap : https://github.com/topics\n",
    "- We will get a list of tiopics. For each topic we will get repo name, username, stars and page link url\n",
    "- We will find 25 repsitories info\n",
    "- For each 25 repsitories we will get a CSV file in this format\n",
    "```\n",
    "Repository Name,Username,Strats,Page URL\n",
    "three.js,mrdoob,71400,https://github.com/mrdoob/three.js\n",
    "libgdx,libgdx,18500,https://github.com/libgdx/libgdx\n",
    "```"
   ],
   "cell_type": "markdown",
   "metadata": {}
  },
  {
   "source": [
    "### Install Modules"
   ],
   "cell_type": "markdown",
   "metadata": {}
  },
  {
   "cell_type": "code",
   "execution_count": 2,
   "metadata": {},
   "outputs": [],
   "source": [
    "!pip install requests --upgrade --quiet\n",
    "!pip install beautifulsoup4 --upgrade --quiet"
   ]
  },
  {
   "source": [
    "### Import Modules"
   ],
   "cell_type": "markdown",
   "metadata": {}
  },
  {
   "cell_type": "code",
   "execution_count": 3,
   "metadata": {},
   "outputs": [],
   "source": [
    "import requests\n",
    "from bs4 import BeautifulSoup\n",
    "import pandas as pd\n",
    "import pandas_profiling as pp \n",
    "import json"
   ]
  },
  {
   "cell_type": "code",
   "execution_count": 4,
   "metadata": {},
   "outputs": [],
   "source": [
    "pageLink = 'https://github.com/topics'\n",
    "response = requests.get(pageLink)"
   ]
  },
  {
   "cell_type": "code",
   "execution_count": 5,
   "metadata": {},
   "outputs": [
    {
     "output_type": "execute_result",
     "data": {
      "text/plain": [
       "200"
      ]
     },
     "metadata": {},
     "execution_count": 5
    }
   ],
   "source": [
    "response.status_code"
   ]
  },
  {
   "cell_type": "code",
   "execution_count": 6,
   "metadata": {},
   "outputs": [
    {
     "output_type": "execute_result",
     "data": {
      "text/plain": [
       "129143"
      ]
     },
     "metadata": {},
     "execution_count": 6
    }
   ],
   "source": [
    "len(response.text)"
   ]
  },
  {
   "source": [
    "## 2.Use the requests library to download web pages\n",
    "- Inspect the website's HTML source and identify the right URLs to download.\n",
    "- Download and save web pages locally using the requests library.\n",
    "- Create a function to automate downloading for different topics/search queries."
   ],
   "cell_type": "markdown",
   "metadata": {}
  },
  {
   "cell_type": "code",
   "execution_count": 7,
   "metadata": {},
   "outputs": [],
   "source": [
    "pageContent = response.text"
   ]
  },
  {
   "cell_type": "code",
   "execution_count": 8,
   "metadata": {},
   "outputs": [
    {
     "output_type": "execute_result",
     "data": {
      "text/plain": [
       "'\\n\\n<!DOCTYPE html>\\n<html lang=\"en\" data-color-mode=\"auto\" data-light-theme=\"light\" data-dark-theme=\"dark\">\\n  <head>\\n    <meta charset=\"utf-8\">\\n  <link rel=\"dns-prefetch\" href=\"https://github.githubassets.com\">\\n  <link rel=\"dns-prefetch\" href=\"https://avatars.githubusercontent.com\">\\n  <link rel=\"dns-prefetch\" href=\"https://github-cloud.s3.amazonaws.com\">\\n  <link rel=\"dns-prefetch\" href=\"https://user-images.githubusercontent.com/\">\\n\\n\\n\\n  <link crossorigin=\"anonymous\" media=\"all\" integrity=\"sha512-yiSzZyQYjjSm73vWjlt23NeW6XsLBACzGZv3ZHwxQ9zgCby0YYjfFxEAXErxlKcQ4ke40vqUiKcvuFn8QZfP1w==\" rel=\"stylesheet\" href=\"https://github.githubassets.com/assets/frameworks-ca24b36724188e34a6ef7bd68e5b76dc.css\" />\\n  \\n    <link crossorigin=\"anonymous\" media=\"all\" integrity=\"sha512-vvcQc56Qj8Yfd1jyEk2XzB3+mWlykbMgyQQ/wwu4JU+YViiQnG8ItjwPyj3Jx5SjqqqOK/adpzLRqb1Fol1TuA==\" rel=\"stylesheet\" href=\"https://github.githubassets.com/assets/behaviors-bef710739e908fc61f7758f2124d97cc.css\" />\\n    \\n    \\n    \\n    <link cro'"
      ]
     },
     "metadata": {},
     "execution_count": 8
    }
   ],
   "source": [
    "pageContent[:1000]"
   ]
  },
  {
   "cell_type": "code",
   "execution_count": 9,
   "metadata": {},
   "outputs": [],
   "source": [
    "# with open('main.html','w') as f:\n",
    "#     f.write(pageContent)\n",
    "with open('main.html', \"w\", encoding=\"utf-8\") as f:\n",
    "    f.write(pageContent)"
   ]
  },
  {
   "source": [
    "## 3.Use Beautiful Soup to parse and extract information\n",
    "- Parse and explore the structure of downloaded web pages using Beautiful soup.\n",
    "- Use the right properties and methods to extract the required information.\n",
    "- Create functions to extract from the page into lists and dictionaries.\n",
    "(Optional) Use a REST API to acquire additional information if required."
   ],
   "cell_type": "markdown",
   "metadata": {}
  },
  {
   "cell_type": "code",
   "execution_count": 10,
   "metadata": {},
   "outputs": [],
   "source": [
    "soup = BeautifulSoup(pageContent, 'html.parser')"
   ]
  },
  {
   "cell_type": "code",
   "execution_count": 11,
   "metadata": {},
   "outputs": [
    {
     "output_type": "execute_result",
     "data": {
      "text/plain": [
       "bs4.BeautifulSoup"
      ]
     },
     "metadata": {},
     "execution_count": 11
    }
   ],
   "source": [
    "type(soup)"
   ]
  },
  {
   "cell_type": "code",
   "execution_count": 12,
   "metadata": {},
   "outputs": [],
   "source": [
    "topicNameClass = 'f3 lh-condensed mb-0 mt-1 Link--primary'\n",
    "# topicNameParagraph = soup.find_all('p',class_=topicNameClass)\n",
    "topicNameParagraph = soup.find_all('p',topicNameClass) # Not need to write the class attribute"
   ]
  },
  {
   "cell_type": "code",
   "execution_count": 13,
   "metadata": {},
   "outputs": [
    {
     "output_type": "execute_result",
     "data": {
      "text/plain": [
       "30"
      ]
     },
     "metadata": {},
     "execution_count": 13
    }
   ],
   "source": [
    "len(topicNameParagraph)"
   ]
  },
  {
   "cell_type": "code",
   "execution_count": 14,
   "metadata": {},
   "outputs": [
    {
     "output_type": "execute_result",
     "data": {
      "text/plain": [
       "[<p class=\"f3 lh-condensed mb-0 mt-1 Link--primary\">3D</p>,\n",
       " <p class=\"f3 lh-condensed mb-0 mt-1 Link--primary\">Ajax</p>,\n",
       " <p class=\"f3 lh-condensed mb-0 mt-1 Link--primary\">Algorithm</p>,\n",
       " <p class=\"f3 lh-condensed mb-0 mt-1 Link--primary\">Amp</p>,\n",
       " <p class=\"f3 lh-condensed mb-0 mt-1 Link--primary\">Android</p>]"
      ]
     },
     "metadata": {},
     "execution_count": 14
    }
   ],
   "source": [
    "topicNameParagraph[:5]"
   ]
  },
  {
   "cell_type": "code",
   "execution_count": 15,
   "metadata": {},
   "outputs": [],
   "source": [
    "topicDescriptionClass = 'f5 color-text-secondary mb-0 mt-1'\n",
    "topicDescriptionParagraph = soup.find_all('p',topicDescriptionClass)"
   ]
  },
  {
   "cell_type": "code",
   "execution_count": 16,
   "metadata": {},
   "outputs": [
    {
     "output_type": "execute_result",
     "data": {
      "text/plain": [
       "30"
      ]
     },
     "metadata": {},
     "execution_count": 16
    }
   ],
   "source": [
    "len(topicDescriptionParagraph)"
   ]
  },
  {
   "cell_type": "code",
   "execution_count": 17,
   "metadata": {},
   "outputs": [
    {
     "output_type": "execute_result",
     "data": {
      "text/plain": [
       "[<p class=\"f5 color-text-secondary mb-0 mt-1\">\n",
       "               3D modeling is the process of virtually developing the surface and structure of a 3D object.\n",
       "             </p>,\n",
       " <p class=\"f5 color-text-secondary mb-0 mt-1\">\n",
       "               Ajax is a technique for creating interactive web applications.\n",
       "             </p>,\n",
       " <p class=\"f5 color-text-secondary mb-0 mt-1\">\n",
       "               Algorithms are self-contained sequences that carry out a variety of tasks.\n",
       "             </p>,\n",
       " <p class=\"f5 color-text-secondary mb-0 mt-1\">\n",
       "               Amp is a non-blocking concurrency framework for PHP.\n",
       "             </p>,\n",
       " <p class=\"f5 color-text-secondary mb-0 mt-1\">\n",
       "               Android is an operating system built by Google designed for mobile devices.\n",
       "             </p>]"
      ]
     },
     "metadata": {},
     "execution_count": 17
    }
   ],
   "source": [
    "topicDescriptionParagraph[:5]"
   ]
  },
  {
   "cell_type": "code",
   "execution_count": 18,
   "metadata": {},
   "outputs": [],
   "source": [
    "topicLinkClass = 'd-flex no-underline'\n",
    "topicLink = soup.find_all('a',topicLinkClass)"
   ]
  },
  {
   "cell_type": "code",
   "execution_count": 19,
   "metadata": {},
   "outputs": [
    {
     "output_type": "execute_result",
     "data": {
      "text/plain": [
       "30"
      ]
     },
     "metadata": {},
     "execution_count": 19
    }
   ],
   "source": [
    "len(topicLink)"
   ]
  },
  {
   "cell_type": "code",
   "execution_count": 20,
   "metadata": {},
   "outputs": [
    {
     "output_type": "execute_result",
     "data": {
      "text/plain": [
       "[<a class=\"d-flex no-underline\" data-ga-click=\"Explore, go to 3d, location:All featured topics\" href=\"/topics/3d\">\n",
       " <div class=\"color-bg-info f4 color-text-tertiary text-bold rounded mr-3 flex-shrink-0 text-center\" style=\"width:64px; height:64px; line-height:64px;\">\n",
       "             #\n",
       "           </div>\n",
       " <div class=\"d-sm-flex flex-auto\">\n",
       " <div class=\"flex-auto\">\n",
       " <p class=\"f3 lh-condensed mb-0 mt-1 Link--primary\">3D</p>\n",
       " <p class=\"f5 color-text-secondary mb-0 mt-1\">\n",
       "               3D modeling is the process of virtually developing the surface and structure of a 3D object.\n",
       "             </p>\n",
       " </div>\n",
       " <div class=\"d-inline-block js-toggler-container starring-container\">\n",
       " <a aria-label=\"You must be signed in to star a topic\" class=\"btn btn-sm d-flex flex-items-center\" data-ga-click=\"Explore, click star button when signed out,\n",
       "         action:topics#index;\n",
       "         text:Star\" href=\"/login?return_to=%2Ftopics%2F3d\" title=\"You must be signed in to star a topic\">\n",
       " <svg aria-hidden=\"true\" class=\"octicon octicon-star mr-1\" height=\"16\" version=\"1.1\" viewbox=\"0 0 16 16\" width=\"16\"><path d=\"M8 .25a.75.75 0 01.673.418l1.882 3.815 4.21.612a.75.75 0 01.416 1.279l-3.046 2.97.719 4.192a.75.75 0 01-1.088.791L8 12.347l-3.766 1.98a.75.75 0 01-1.088-.79l.72-4.194L.818 6.374a.75.75 0 01.416-1.28l4.21-.611L7.327.668A.75.75 0 018 .25zm0 2.445L6.615 5.5a.75.75 0 01-.564.41l-3.097.45 2.24 2.184a.75.75 0 01.216.664l-.528 3.084 2.769-1.456a.75.75 0 01.698 0l2.77 1.456-.53-3.084a.75.75 0 01.216-.664l2.24-2.183-3.096-.45a.75.75 0 01-.564-.41L8 2.694v.001z\" fill-rule=\"evenodd\"></path></svg>Star\n",
       "     </a>\n",
       " </div>\n",
       " </div>\n",
       " </a>,\n",
       " <a class=\"d-flex no-underline\" data-ga-click=\"Explore, go to ajax, location:All featured topics\" href=\"/topics/ajax\">\n",
       " <img alt=\"ajax\" class=\"rounded mr-3\" height=\"64\" src=\"https://raw.githubusercontent.com/github/explore/8be26d91eb231fec0b8856359979ac09f27173fd/topics/ajax/ajax.png\" width=\"64\"/>\n",
       " <div class=\"d-sm-flex flex-auto\">\n",
       " <div class=\"flex-auto\">\n",
       " <p class=\"f3 lh-condensed mb-0 mt-1 Link--primary\">Ajax</p>\n",
       " <p class=\"f5 color-text-secondary mb-0 mt-1\">\n",
       "               Ajax is a technique for creating interactive web applications.\n",
       "             </p>\n",
       " </div>\n",
       " <div class=\"d-inline-block js-toggler-container starring-container\">\n",
       " <a aria-label=\"You must be signed in to star a topic\" class=\"btn btn-sm d-flex flex-items-center\" data-ga-click=\"Explore, click star button when signed out,\n",
       "         action:topics#index;\n",
       "         text:Star\" href=\"/login?return_to=%2Ftopics%2Fajax\" title=\"You must be signed in to star a topic\">\n",
       " <svg aria-hidden=\"true\" class=\"octicon octicon-star mr-1\" height=\"16\" version=\"1.1\" viewbox=\"0 0 16 16\" width=\"16\"><path d=\"M8 .25a.75.75 0 01.673.418l1.882 3.815 4.21.612a.75.75 0 01.416 1.279l-3.046 2.97.719 4.192a.75.75 0 01-1.088.791L8 12.347l-3.766 1.98a.75.75 0 01-1.088-.79l.72-4.194L.818 6.374a.75.75 0 01.416-1.28l4.21-.611L7.327.668A.75.75 0 018 .25zm0 2.445L6.615 5.5a.75.75 0 01-.564.41l-3.097.45 2.24 2.184a.75.75 0 01.216.664l-.528 3.084 2.769-1.456a.75.75 0 01.698 0l2.77 1.456-.53-3.084a.75.75 0 01.216-.664l2.24-2.183-3.096-.45a.75.75 0 01-.564-.41L8 2.694v.001z\" fill-rule=\"evenodd\"></path></svg>Star\n",
       "     </a>\n",
       " </div>\n",
       " </div>\n",
       " </a>,\n",
       " <a class=\"d-flex no-underline\" data-ga-click=\"Explore, go to algorithm, location:All featured topics\" href=\"/topics/algorithm\">\n",
       " <div class=\"color-bg-info f4 color-text-tertiary text-bold rounded mr-3 flex-shrink-0 text-center\" style=\"width:64px; height:64px; line-height:64px;\">\n",
       "             #\n",
       "           </div>\n",
       " <div class=\"d-sm-flex flex-auto\">\n",
       " <div class=\"flex-auto\">\n",
       " <p class=\"f3 lh-condensed mb-0 mt-1 Link--primary\">Algorithm</p>\n",
       " <p class=\"f5 color-text-secondary mb-0 mt-1\">\n",
       "               Algorithms are self-contained sequences that carry out a variety of tasks.\n",
       "             </p>\n",
       " </div>\n",
       " <div class=\"d-inline-block js-toggler-container starring-container\">\n",
       " <a aria-label=\"You must be signed in to star a topic\" class=\"btn btn-sm d-flex flex-items-center\" data-ga-click=\"Explore, click star button when signed out,\n",
       "         action:topics#index;\n",
       "         text:Star\" href=\"/login?return_to=%2Ftopics%2Falgorithm\" title=\"You must be signed in to star a topic\">\n",
       " <svg aria-hidden=\"true\" class=\"octicon octicon-star mr-1\" height=\"16\" version=\"1.1\" viewbox=\"0 0 16 16\" width=\"16\"><path d=\"M8 .25a.75.75 0 01.673.418l1.882 3.815 4.21.612a.75.75 0 01.416 1.279l-3.046 2.97.719 4.192a.75.75 0 01-1.088.791L8 12.347l-3.766 1.98a.75.75 0 01-1.088-.79l.72-4.194L.818 6.374a.75.75 0 01.416-1.28l4.21-.611L7.327.668A.75.75 0 018 .25zm0 2.445L6.615 5.5a.75.75 0 01-.564.41l-3.097.45 2.24 2.184a.75.75 0 01.216.664l-.528 3.084 2.769-1.456a.75.75 0 01.698 0l2.77 1.456-.53-3.084a.75.75 0 01.216-.664l2.24-2.183-3.096-.45a.75.75 0 01-.564-.41L8 2.694v.001z\" fill-rule=\"evenodd\"></path></svg>Star\n",
       "     </a>\n",
       " </div>\n",
       " </div>\n",
       " </a>,\n",
       " <a class=\"d-flex no-underline\" data-ga-click=\"Explore, go to amphp, location:All featured topics\" href=\"/topics/amphp\">\n",
       " <img alt=\"amphp\" class=\"rounded mr-3\" height=\"64\" src=\"https://raw.githubusercontent.com/github/explore/80688e429a7d4ef2fca1e82350fe8e3517d3494d/topics/amphp/amphp.png\" width=\"64\"/>\n",
       " <div class=\"d-sm-flex flex-auto\">\n",
       " <div class=\"flex-auto\">\n",
       " <p class=\"f3 lh-condensed mb-0 mt-1 Link--primary\">Amp</p>\n",
       " <p class=\"f5 color-text-secondary mb-0 mt-1\">\n",
       "               Amp is a non-blocking concurrency framework for PHP.\n",
       "             </p>\n",
       " </div>\n",
       " <div class=\"d-inline-block js-toggler-container starring-container\">\n",
       " <a aria-label=\"You must be signed in to star a topic\" class=\"btn btn-sm d-flex flex-items-center\" data-ga-click=\"Explore, click star button when signed out,\n",
       "         action:topics#index;\n",
       "         text:Star\" href=\"/login?return_to=%2Ftopics%2Famphp\" title=\"You must be signed in to star a topic\">\n",
       " <svg aria-hidden=\"true\" class=\"octicon octicon-star mr-1\" height=\"16\" version=\"1.1\" viewbox=\"0 0 16 16\" width=\"16\"><path d=\"M8 .25a.75.75 0 01.673.418l1.882 3.815 4.21.612a.75.75 0 01.416 1.279l-3.046 2.97.719 4.192a.75.75 0 01-1.088.791L8 12.347l-3.766 1.98a.75.75 0 01-1.088-.79l.72-4.194L.818 6.374a.75.75 0 01.416-1.28l4.21-.611L7.327.668A.75.75 0 018 .25zm0 2.445L6.615 5.5a.75.75 0 01-.564.41l-3.097.45 2.24 2.184a.75.75 0 01.216.664l-.528 3.084 2.769-1.456a.75.75 0 01.698 0l2.77 1.456-.53-3.084a.75.75 0 01.216-.664l2.24-2.183-3.096-.45a.75.75 0 01-.564-.41L8 2.694v.001z\" fill-rule=\"evenodd\"></path></svg>Star\n",
       "     </a>\n",
       " </div>\n",
       " </div>\n",
       " </a>,\n",
       " <a class=\"d-flex no-underline\" data-ga-click=\"Explore, go to android, location:All featured topics\" href=\"/topics/android\">\n",
       " <img alt=\"android\" class=\"rounded mr-3\" height=\"64\" src=\"https://raw.githubusercontent.com/github/explore/80688e429a7d4ef2fca1e82350fe8e3517d3494d/topics/android/android.png\" width=\"64\"/>\n",
       " <div class=\"d-sm-flex flex-auto\">\n",
       " <div class=\"flex-auto\">\n",
       " <p class=\"f3 lh-condensed mb-0 mt-1 Link--primary\">Android</p>\n",
       " <p class=\"f5 color-text-secondary mb-0 mt-1\">\n",
       "               Android is an operating system built by Google designed for mobile devices.\n",
       "             </p>\n",
       " </div>\n",
       " <div class=\"d-inline-block js-toggler-container starring-container\">\n",
       " <a aria-label=\"You must be signed in to star a topic\" class=\"btn btn-sm d-flex flex-items-center\" data-ga-click=\"Explore, click star button when signed out,\n",
       "         action:topics#index;\n",
       "         text:Star\" href=\"/login?return_to=%2Ftopics%2Fandroid\" title=\"You must be signed in to star a topic\">\n",
       " <svg aria-hidden=\"true\" class=\"octicon octicon-star mr-1\" height=\"16\" version=\"1.1\" viewbox=\"0 0 16 16\" width=\"16\"><path d=\"M8 .25a.75.75 0 01.673.418l1.882 3.815 4.21.612a.75.75 0 01.416 1.279l-3.046 2.97.719 4.192a.75.75 0 01-1.088.791L8 12.347l-3.766 1.98a.75.75 0 01-1.088-.79l.72-4.194L.818 6.374a.75.75 0 01.416-1.28l4.21-.611L7.327.668A.75.75 0 018 .25zm0 2.445L6.615 5.5a.75.75 0 01-.564.41l-3.097.45 2.24 2.184a.75.75 0 01.216.664l-.528 3.084 2.769-1.456a.75.75 0 01.698 0l2.77 1.456-.53-3.084a.75.75 0 01.216-.664l2.24-2.183-3.096-.45a.75.75 0 01-.564-.41L8 2.694v.001z\" fill-rule=\"evenodd\"></path></svg>Star\n",
       "     </a>\n",
       " </div>\n",
       " </div>\n",
       " </a>]"
      ]
     },
     "metadata": {},
     "execution_count": 20
    }
   ],
   "source": [
    "topicLink[:5]"
   ]
  },
  {
   "cell_type": "code",
   "execution_count": 21,
   "metadata": {},
   "outputs": [
    {
     "output_type": "execute_result",
     "data": {
      "text/plain": [
       "'/topics/3d'"
      ]
     },
     "metadata": {},
     "execution_count": 21
    }
   ],
   "source": [
    "topicLink[0]['href']"
   ]
  },
  {
   "cell_type": "code",
   "execution_count": 22,
   "metadata": {},
   "outputs": [
    {
     "output_type": "execute_result",
     "data": {
      "text/plain": [
       "'3D modeling is the process of virtually developing the surface and structure of a 3D object.'"
      ]
     },
     "metadata": {},
     "execution_count": 22
    }
   ],
   "source": [
    "topicDescriptionParagraph[0].text.strip()"
   ]
  },
  {
   "cell_type": "code",
   "execution_count": 23,
   "metadata": {},
   "outputs": [],
   "source": [
    "topicNames = []\n",
    "for name in topicNameParagraph:\n",
    "    topicNames.append(name.text.strip())"
   ]
  },
  {
   "cell_type": "code",
   "execution_count": 24,
   "metadata": {},
   "outputs": [
    {
     "output_type": "execute_result",
     "data": {
      "text/plain": [
       "['3D', 'Ajax', 'Algorithm', 'Amp', 'Android']"
      ]
     },
     "metadata": {},
     "execution_count": 24
    }
   ],
   "source": [
    "topicNames[:5]"
   ]
  },
  {
   "cell_type": "code",
   "execution_count": 25,
   "metadata": {},
   "outputs": [],
   "source": [
    "topicDescriptions = []\n",
    "for description in topicDescriptionParagraph:\n",
    "    topicDescriptions.append(description.text.strip())"
   ]
  },
  {
   "cell_type": "code",
   "execution_count": 26,
   "metadata": {},
   "outputs": [
    {
     "output_type": "execute_result",
     "data": {
      "text/plain": [
       "['3D modeling is the process of virtually developing the surface and structure of a 3D object.',\n",
       " 'Ajax is a technique for creating interactive web applications.',\n",
       " 'Algorithms are self-contained sequences that carry out a variety of tasks.',\n",
       " 'Amp is a non-blocking concurrency framework for PHP.',\n",
       " 'Android is an operating system built by Google designed for mobile devices.']"
      ]
     },
     "metadata": {},
     "execution_count": 26
    }
   ],
   "source": [
    "topicDescriptions[:5]"
   ]
  },
  {
   "cell_type": "code",
   "execution_count": 27,
   "metadata": {},
   "outputs": [],
   "source": [
    "baseUrl = 'https://github.com'"
   ]
  },
  {
   "cell_type": "code",
   "execution_count": 28,
   "metadata": {},
   "outputs": [],
   "source": [
    "topicLinks = []\n",
    "for url in topicLink:\n",
    "    topicLinks.append(baseUrl+url['href'].strip())"
   ]
  },
  {
   "cell_type": "code",
   "execution_count": 29,
   "metadata": {},
   "outputs": [
    {
     "output_type": "execute_result",
     "data": {
      "text/plain": [
       "['https://github.com/topics/3d',\n",
       " 'https://github.com/topics/ajax',\n",
       " 'https://github.com/topics/algorithm',\n",
       " 'https://github.com/topics/amphp',\n",
       " 'https://github.com/topics/android']"
      ]
     },
     "metadata": {},
     "execution_count": 29
    }
   ],
   "source": [
    "topicLinks[:5]"
   ]
  },
  {
   "source": [
    "## 4.Create CSV file(s) with the extracted information\n",
    "- Create functions for the end-to-end process of downloading, parsing, and saving CSVs.\n",
    "- Execute the function with different inputs to create a dataset of CSV files.\n",
    "- Verify the information in the CSV files by reading them back using Pandas."
   ],
   "cell_type": "markdown",
   "metadata": {}
  },
  {
   "cell_type": "code",
   "execution_count": 30,
   "metadata": {},
   "outputs": [],
   "source": [
    "df1Dict = {\n",
    "    \"Topic Title\":topicNames,\n",
    "    \"Topic Description\":topicDescriptions,\n",
    "    \"Topic URL\":topicLinks,\n",
    "}"
   ]
  },
  {
   "cell_type": "code",
   "execution_count": 31,
   "metadata": {},
   "outputs": [],
   "source": [
    "df1 = pd.DataFrame(df1Dict)"
   ]
  },
  {
   "cell_type": "code",
   "execution_count": 32,
   "metadata": {},
   "outputs": [
    {
     "output_type": "execute_result",
     "data": {
      "text/plain": [
       "  Topic Title                                  Topic Description  \\\n",
       "0          3D  3D modeling is the process of virtually develo...   \n",
       "1        Ajax  Ajax is a technique for creating interactive w...   \n",
       "2   Algorithm  Algorithms are self-contained sequences that c...   \n",
       "3         Amp  Amp is a non-blocking concurrency framework fo...   \n",
       "4     Android  Android is an operating system built by Google...   \n",
       "\n",
       "                             Topic URL  \n",
       "0         https://github.com/topics/3d  \n",
       "1       https://github.com/topics/ajax  \n",
       "2  https://github.com/topics/algorithm  \n",
       "3      https://github.com/topics/amphp  \n",
       "4    https://github.com/topics/android  "
      ],
      "text/html": "<div>\n<style scoped>\n    .dataframe tbody tr th:only-of-type {\n        vertical-align: middle;\n    }\n\n    .dataframe tbody tr th {\n        vertical-align: top;\n    }\n\n    .dataframe thead th {\n        text-align: right;\n    }\n</style>\n<table border=\"1\" class=\"dataframe\">\n  <thead>\n    <tr style=\"text-align: right;\">\n      <th></th>\n      <th>Topic Title</th>\n      <th>Topic Description</th>\n      <th>Topic URL</th>\n    </tr>\n  </thead>\n  <tbody>\n    <tr>\n      <th>0</th>\n      <td>3D</td>\n      <td>3D modeling is the process of virtually develo...</td>\n      <td>https://github.com/topics/3d</td>\n    </tr>\n    <tr>\n      <th>1</th>\n      <td>Ajax</td>\n      <td>Ajax is a technique for creating interactive w...</td>\n      <td>https://github.com/topics/ajax</td>\n    </tr>\n    <tr>\n      <th>2</th>\n      <td>Algorithm</td>\n      <td>Algorithms are self-contained sequences that c...</td>\n      <td>https://github.com/topics/algorithm</td>\n    </tr>\n    <tr>\n      <th>3</th>\n      <td>Amp</td>\n      <td>Amp is a non-blocking concurrency framework fo...</td>\n      <td>https://github.com/topics/amphp</td>\n    </tr>\n    <tr>\n      <th>4</th>\n      <td>Android</td>\n      <td>Android is an operating system built by Google...</td>\n      <td>https://github.com/topics/android</td>\n    </tr>\n  </tbody>\n</table>\n</div>"
     },
     "metadata": {},
     "execution_count": 32
    }
   ],
   "source": [
    "df1.head()"
   ]
  },
  {
   "cell_type": "code",
   "execution_count": 33,
   "metadata": {},
   "outputs": [],
   "source": [
    "df1.to_csv('topicDataFrame.csv',index=None)"
   ]
  },
  {
   "cell_type": "code",
   "execution_count": 34,
   "metadata": {},
   "outputs": [
    {
     "output_type": "stream",
     "name": "stderr",
     "text": [
      "Summarize dataset: 100%|██████████| 16/16 [00:03<00:00,  5.12it/s, Completed]\n",
      "Generate report structure: 100%|██████████| 1/1 [00:01<00:00,  1.12s/it]\n",
      "Render HTML: 100%|██████████| 1/1 [00:00<00:00,  1.64it/s]\n",
      "Export report to file: 100%|██████████| 1/1 [00:00<00:00,  6.97it/s]\n"
     ]
    }
   ],
   "source": [
    "profile = pp.ProfileReport(df1)\n",
    "profile.to_file(output_file='output.html')"
   ]
  },
  {
   "cell_type": "code",
   "execution_count": 35,
   "metadata": {},
   "outputs": [],
   "source": [
    "topicLinkPage = topicLinks[29]"
   ]
  },
  {
   "cell_type": "code",
   "execution_count": 36,
   "metadata": {},
   "outputs": [
    {
     "output_type": "execute_result",
     "data": {
      "text/plain": [
       "'https://github.com/topics/cpp'"
      ]
     },
     "metadata": {},
     "execution_count": 36
    }
   ],
   "source": [
    "topicLinkPage"
   ]
  },
  {
   "cell_type": "code",
   "execution_count": 37,
   "metadata": {},
   "outputs": [
    {
     "output_type": "execute_result",
     "data": {
      "text/plain": [
       "200"
      ]
     },
     "metadata": {},
     "execution_count": 37
    }
   ],
   "source": [
    "response1 = requests.get(topicLinkPage)\n",
    "response1.status_code"
   ]
  },
  {
   "cell_type": "code",
   "execution_count": 38,
   "metadata": {},
   "outputs": [
    {
     "output_type": "execute_result",
     "data": {
      "text/plain": [
       "638088"
      ]
     },
     "metadata": {},
     "execution_count": 38
    }
   ],
   "source": [
    "len(response1.text)"
   ]
  },
  {
   "cell_type": "code",
   "execution_count": 39,
   "metadata": {},
   "outputs": [],
   "source": [
    "topicInfo = BeautifulSoup(response1.text,'html.parser')"
   ]
  },
  {
   "cell_type": "code",
   "execution_count": 40,
   "metadata": {},
   "outputs": [],
   "source": [
    "repo_unClass = 'f3 color-text-secondary text-normal lh-condensed'\n",
    "repo_un = topicInfo.find_all('h1',repo_unClass)\n"
   ]
  },
  {
   "cell_type": "code",
   "execution_count": 41,
   "metadata": {},
   "outputs": [
    {
     "output_type": "execute_result",
     "data": {
      "text/plain": [
       "<h1 class=\"f3 color-text-secondary text-normal lh-condensed\">\n",
       "<a data-ga-click=\"Explore, go to repository owner, location:explore feed\" data-hydro-click='{\"event_type\":\"explore.click\",\"payload\":{\"click_context\":\"REPOSITORY_CARD\",\"click_target\":\"OWNER\",\"click_visual_representation\":\"REPOSITORY_OWNER_HEADING\",\"actor_id\":null,\"record_id\":36260787,\"originating_url\":\"https://github.com/topics/cpp\",\"user_id\":null}}' data-hydro-click-hmac=\"62c5fcd0d58a5057103d91a8bff8d5aa6514b22f1d48ad914bf5800c85feb280\" data-view-component=\"true\" href=\"/CyC2018\">\n",
       "            CyC2018\n",
       "</a>          /\n",
       "          <a class=\"text-bold\" data-ga-click=\"Explore, go to repository, location:explore feed\" data-hydro-click='{\"event_type\":\"explore.click\",\"payload\":{\"click_context\":\"REPOSITORY_CARD\",\"click_target\":\"REPOSITORY\",\"click_visual_representation\":\"REPOSITORY_NAME_HEADING\",\"actor_id\":null,\"record_id\":121395510,\"originating_url\":\"https://github.com/topics/cpp\",\"user_id\":null}}' data-hydro-click-hmac=\"f4a2f63e271a64f642e0a4372bdebc785bf8b4ca7200f6888e11db374ca232ea\" data-view-component=\"true\" href=\"/CyC2018/CS-Notes\">\n",
       "            CS-Notes\n",
       "</a> </h1>"
      ]
     },
     "metadata": {},
     "execution_count": 41
    }
   ],
   "source": [
    "repo_un[0]"
   ]
  },
  {
   "source": [
    "# username = repo_un[0].find_all('a')\n",
    "# username[0].text.strip()\n",
    "# a = repo_un[0].find_all('a')\n",
    "# a[1]['href']\n",
    "usernames = []\n",
    "repoNames = []\n",
    "repoLinks = []\n",
    "for ru in repo_un:\n",
    "    un = ru.find_all('a')\n",
    "    usernames.append(un[0].text.strip())\n",
    "    repoNames.append(un[1].text.strip())\n",
    "    repoLinks.append(baseUrl+un[1]['href'])"
   ],
   "cell_type": "code",
   "metadata": {},
   "execution_count": 42,
   "outputs": []
  },
  {
   "cell_type": "code",
   "execution_count": 43,
   "metadata": {},
   "outputs": [
    {
     "output_type": "execute_result",
     "data": {
      "text/plain": [
       "30"
      ]
     },
     "metadata": {},
     "execution_count": 43
    }
   ],
   "source": [
    "len(usernames)"
   ]
  },
  {
   "cell_type": "code",
   "execution_count": 44,
   "metadata": {},
   "outputs": [
    {
     "output_type": "execute_result",
     "data": {
      "text/plain": [
       "['CyC2018', 'tuvtran', 'azl397985856', 'x64dbg', 'fffaraz']"
      ]
     },
     "metadata": {},
     "execution_count": 44
    }
   ],
   "source": [
    "usernames[:5]"
   ]
  },
  {
   "cell_type": "code",
   "execution_count": 45,
   "metadata": {},
   "outputs": [
    {
     "output_type": "execute_result",
     "data": {
      "text/plain": [
       "30"
      ]
     },
     "metadata": {},
     "execution_count": 45
    }
   ],
   "source": [
    "len(repoNames)"
   ]
  },
  {
   "cell_type": "code",
   "execution_count": 46,
   "metadata": {},
   "outputs": [
    {
     "output_type": "execute_result",
     "data": {
      "text/plain": [
       "['CS-Notes', 'project-based-learning', 'leetcode', 'x64dbg', 'awesome-cpp']"
      ]
     },
     "metadata": {},
     "execution_count": 46
    }
   ],
   "source": [
    "repoNames[:5]"
   ]
  },
  {
   "cell_type": "code",
   "execution_count": 47,
   "metadata": {},
   "outputs": [
    {
     "output_type": "execute_result",
     "data": {
      "text/plain": [
       "30"
      ]
     },
     "metadata": {},
     "execution_count": 47
    }
   ],
   "source": [
    "len(repoLinks)"
   ]
  },
  {
   "cell_type": "code",
   "execution_count": 48,
   "metadata": {},
   "outputs": [
    {
     "output_type": "execute_result",
     "data": {
      "text/plain": [
       "['https://github.com/CyC2018/CS-Notes',\n",
       " 'https://github.com/tuvtran/project-based-learning',\n",
       " 'https://github.com/azl397985856/leetcode',\n",
       " 'https://github.com/x64dbg/x64dbg',\n",
       " 'https://github.com/fffaraz/awesome-cpp']"
      ]
     },
     "metadata": {},
     "execution_count": 48
    }
   ],
   "source": [
    "repoLinks[:5]"
   ]
  },
  {
   "cell_type": "code",
   "execution_count": 49,
   "metadata": {},
   "outputs": [],
   "source": [
    "starClass = 'social-count float-none'\n",
    "star = topicInfo.find_all('a',starClass)"
   ]
  },
  {
   "cell_type": "code",
   "execution_count": 50,
   "metadata": {},
   "outputs": [],
   "source": [
    "stars = []\n",
    "for st in star:\n",
    "    s = float(st.text.strip()[:-1])\n",
    "    if (st.text.strip()[-1]!='k'):\n",
    "        s = float(st.text.strip())        \n",
    "    stars.append(s*1000)"
   ]
  },
  {
   "cell_type": "code",
   "execution_count": 51,
   "metadata": {},
   "outputs": [
    {
     "output_type": "execute_result",
     "data": {
      "text/plain": [
       "30"
      ]
     },
     "metadata": {},
     "execution_count": 51
    }
   ],
   "source": [
    "len(stars)"
   ]
  },
  {
   "cell_type": "code",
   "execution_count": 52,
   "metadata": {},
   "outputs": [
    {
     "output_type": "execute_result",
     "data": {
      "text/plain": [
       "[132000.0, 50900.0, 42400.0, 36900.0, 31800.0]"
      ]
     },
     "metadata": {},
     "execution_count": 52
    }
   ],
   "source": [
    "stars[:5]"
   ]
  },
  {
   "cell_type": "code",
   "execution_count": 53,
   "metadata": {},
   "outputs": [],
   "source": [
    "topicPageDfDict = {\n",
    "    'Repository_Name':repoNames,\n",
    "    'Username':usernames,\n",
    "    'Stars':stars,\n",
    "    'Repository_URL':repoLinks\n",
    "}\n",
    "topicDf = pd.DataFrame(topicPageDfDict)"
   ]
  },
  {
   "cell_type": "code",
   "execution_count": 54,
   "metadata": {},
   "outputs": [
    {
     "output_type": "execute_result",
     "data": {
      "text/plain": [
       "30"
      ]
     },
     "metadata": {},
     "execution_count": 54
    }
   ],
   "source": [
    "len(topicDf)"
   ]
  },
  {
   "cell_type": "code",
   "execution_count": 55,
   "metadata": {},
   "outputs": [
    {
     "output_type": "execute_result",
     "data": {
      "text/plain": [
       "          Repository_Name      Username     Stars  \\\n",
       "0                CS-Notes       CyC2018  132000.0   \n",
       "1  project-based-learning       tuvtran   50900.0   \n",
       "2                leetcode  azl397985856   42400.0   \n",
       "3                  x64dbg        x64dbg   36900.0   \n",
       "4             awesome-cpp       fffaraz   31800.0   \n",
       "\n",
       "                                      Repository_URL  \n",
       "0                https://github.com/CyC2018/CS-Notes  \n",
       "1  https://github.com/tuvtran/project-based-learning  \n",
       "2           https://github.com/azl397985856/leetcode  \n",
       "3                   https://github.com/x64dbg/x64dbg  \n",
       "4             https://github.com/fffaraz/awesome-cpp  "
      ],
      "text/html": "<div>\n<style scoped>\n    .dataframe tbody tr th:only-of-type {\n        vertical-align: middle;\n    }\n\n    .dataframe tbody tr th {\n        vertical-align: top;\n    }\n\n    .dataframe thead th {\n        text-align: right;\n    }\n</style>\n<table border=\"1\" class=\"dataframe\">\n  <thead>\n    <tr style=\"text-align: right;\">\n      <th></th>\n      <th>Repository_Name</th>\n      <th>Username</th>\n      <th>Stars</th>\n      <th>Repository_URL</th>\n    </tr>\n  </thead>\n  <tbody>\n    <tr>\n      <th>0</th>\n      <td>CS-Notes</td>\n      <td>CyC2018</td>\n      <td>132000.0</td>\n      <td>https://github.com/CyC2018/CS-Notes</td>\n    </tr>\n    <tr>\n      <th>1</th>\n      <td>project-based-learning</td>\n      <td>tuvtran</td>\n      <td>50900.0</td>\n      <td>https://github.com/tuvtran/project-based-learning</td>\n    </tr>\n    <tr>\n      <th>2</th>\n      <td>leetcode</td>\n      <td>azl397985856</td>\n      <td>42400.0</td>\n      <td>https://github.com/azl397985856/leetcode</td>\n    </tr>\n    <tr>\n      <th>3</th>\n      <td>x64dbg</td>\n      <td>x64dbg</td>\n      <td>36900.0</td>\n      <td>https://github.com/x64dbg/x64dbg</td>\n    </tr>\n    <tr>\n      <th>4</th>\n      <td>awesome-cpp</td>\n      <td>fffaraz</td>\n      <td>31800.0</td>\n      <td>https://github.com/fffaraz/awesome-cpp</td>\n    </tr>\n  </tbody>\n</table>\n</div>"
     },
     "metadata": {},
     "execution_count": 55
    }
   ],
   "source": [
    "topicDf[:5]"
   ]
  },
  {
   "cell_type": "code",
   "execution_count": 56,
   "metadata": {},
   "outputs": [],
   "source": [
    "allDf = []"
   ]
  },
  {
   "cell_type": "code",
   "execution_count": 57,
   "metadata": {},
   "outputs": [],
   "source": [
    "def topicsInfo(tpklnks = topicLinks[0]):\n",
    "    topicLinkPage = tpklnks\n",
    "    response1 = requests.get(topicLinkPage)\n",
    "    topicInfo = BeautifulSoup(response1.text,'html.parser')\n",
    "\n",
    "    repo_unClass = 'f3 color-text-secondary text-normal lh-condensed'\n",
    "    repo_un = topicInfo.find_all('h1',repo_unClass)\n",
    "\n",
    "    usernames = []\n",
    "    repoNames = []\n",
    "    repoLinks = []\n",
    "    stars = []\n",
    "    \n",
    "    for ru in repo_un:\n",
    "        un = ru.find_all('a')\n",
    "\n",
    "        usernames.append(un[0].text.strip())\n",
    "        repoNames.append(un[1].text.strip())\n",
    "        repoLinks.append(baseUrl+un[1]['href'])\n",
    "    \n",
    "    starClass = 'social-count float-none'\n",
    "    star = topicInfo.find_all('a',starClass)\n",
    "\n",
    "    for st in star:\n",
    "        s = float(st.text.strip()[:-1])\n",
    "\n",
    "        if (st.text.strip()[-1]!='k'):\n",
    "            s = float(st.text.strip()) \n",
    "\n",
    "        stars.append(s*1000)\n",
    "\n",
    "    topicPageDfDict = {\n",
    "        'Repository_Name':repoNames,\n",
    "        'Username':usernames,\n",
    "        'Stars':stars,\n",
    "        'Repository_URL':repoLinks,\n",
    "        }\n",
    "\n",
    "    topicDf=pd.DataFrame(topicPageDfDict)\n",
    "    # topicDfs.append(topicDf)\n",
    "    outputCsvFile = 'Topics Info'+tpklnks[25:]+'.csv'\n",
    "    topicDf.to_csv(outputCsvFile,index=None)\n",
    "    # outputHtmlFile = 'Topics Report'+tpklnks[25:]+'.html'\n",
    "    # profile1 = pp.ProfileReport(topicDf)\n",
    "    # profile1.to_file(output_file=outputHtmlFile)\n",
    "      \n",
    "    # topicDf['Topic Name'] = tpklnks[25:]\n",
    "    # topicsDfs=pd.concat([topicsDfs,topicDf])\n",
    "    topicDf[\"Topic Class\"]=tpklnks[26:]\n",
    "    allDf.append(topicDf)"
   ]
  },
  {
   "cell_type": "code",
   "execution_count": 58,
   "metadata": {},
   "outputs": [],
   "source": [
    "for links in topicLinks:\n",
    "    topicsInfo(links)"
   ]
  },
  {
   "cell_type": "code",
   "execution_count": 59,
   "metadata": {},
   "outputs": [
    {
     "output_type": "execute_result",
     "data": {
      "text/plain": [
       "30"
      ]
     },
     "metadata": {},
     "execution_count": 59
    }
   ],
   "source": [
    "len(allDf)"
   ]
  },
  {
   "cell_type": "code",
   "execution_count": 60,
   "metadata": {},
   "outputs": [
    {
     "output_type": "execute_result",
     "data": {
      "text/plain": [
       "'https://github.com/topics/cpp'"
      ]
     },
     "metadata": {},
     "execution_count": 60
    }
   ],
   "source": [
    "topicLinks[29]"
   ]
  },
  {
   "cell_type": "code",
   "execution_count": 61,
   "metadata": {},
   "outputs": [
    {
     "output_type": "stream",
     "name": "stderr",
     "text": [
      "Summarize dataset: 100%|██████████| 19/19 [00:01<00:00, 13.59it/s, Completed]\n",
      "Generate report structure: 100%|██████████| 1/1 [00:02<00:00,  2.57s/it]\n",
      "Render HTML: 100%|██████████| 1/1 [00:00<00:00,  2.13it/s]\n",
      "Export report to file: 100%|██████████| 1/1 [00:00<00:00,  7.48it/s]\n"
     ]
    }
   ],
   "source": [
    "dfAll = pd.DataFrame()\n",
    "dfAll = pd.concat(allDf)\n",
    "dfAll.to_csv('allinfo.csv',index=None)\n",
    "finalProfile = pp.ProfileReport(dfAll)\n",
    "finalProfile.to_file(output_file='finalReport.html')"
   ]
  },
  {
   "cell_type": "code",
   "execution_count": null,
   "metadata": {},
   "outputs": [],
   "source": []
  }
 ]
}